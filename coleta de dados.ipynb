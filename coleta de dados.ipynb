{
  "cells": [
    {
      "cell_type": "markdown",
      "metadata": {},
      "source": [
        "## Como ganhar uma partida de League of Legends com estatística.\n",
        "\n",
        "Neste notebook iremos fazer uma análise exploratória dos dados dos melhores jogadores de Lol de todo o mundo e entender quais são os fatores que levam uma partida à vitória ou derrota.\n",
        "\n",
        "Nosso primeiro passo será coletar os dados das partidas na API da Riot Games, todos os dados são públicos e para fazer requisições é necessário um token de acesso à API. Há 16 servidores ativos de League of Legends em todo o mundo, sendo dividido em 4 regiões: Américas, Europa, Ásia e Oceania.\n",
        "\n",
        "Estaremos analisando as últimas 100 partidas dos melhores jogadores de todos os servidores. Mas o que define quem são os melhores jogadores? Além do fato de alguns destes serem jogadores profissionais, os melhores jogadores estão no maior ranking do jogo: Challenger. Cada servidor possui entre 100 e 200 Challengers(cerca de 0.01% dos jogadores)"
      ]
    },
    {
      "cell_type": "code",
      "execution_count": 1,
      "metadata": {
        "id": "m2tii2Ne4sM-"
      },
      "outputs": [],
      "source": [
        "import requests\n",
        "import pandas as pd\n",
        "import time\n",
        "import os\n",
        "from dotenv import load_dotenv"
      ]
    },
    {
      "cell_type": "markdown",
      "metadata": {},
      "source": [
        "Para fazer requisições para a  API da Riot Games, você precisa de um token de acesso. O token pode ser solicitado no link: https://developer.riotgames.com/"
      ]
    },
    {
      "cell_type": "code",
      "execution_count": 2,
      "metadata": {
        "id": "bd2lPBQN6icD"
      },
      "outputs": [],
      "source": [
        "load_dotenv()\n",
        "RGKEY = os.getenv(\"RGKEY\")"
      ]
    },
    {
      "cell_type": "markdown",
      "metadata": {},
      "source": [
        "Nosso primeiro passo é fazer a requisição dos ID's de todos os jogadores Challenger de todos os servidores do mundo. Para isso iremo definir um dicionário definindo a região de cada servidor, depois iremos iterar sobre esse dicionário e fazer os requests na rota **league-exp** usando o **servidor** como parâmetro."
      ]
    },
    {
      "cell_type": "code",
      "execution_count": 11,
      "metadata": {
        "id": "thRvhZbgZmUJ"
      },
      "outputs": [],
      "source": [
        "regions = {\n",
        "    'BR1': \"AMERICAS\",\n",
        "    'EUN1': \"EUROPE\",\n",
        "    'EUW1': \"EUROPE\",\n",
        "    'JP1': \"ASIA\",\n",
        "    'KR': \"ASIA\",\n",
        "    'LA1': \"AMERICAS\",\n",
        "    'LA2': \"AMERICAS\",\n",
        "    'NA1': \"AMERICAS\",\n",
        "    'OC1': \"SEA\",\n",
        "    'PH2': \"SEA\",\n",
        "    'RU': \"EUROPE\",\n",
        "    'SG2': \"SEA\",\n",
        "    'TH2': \"SEA\",\n",
        "    'TR1': \"EUROPE\",\n",
        "    'TW2': \"SEA\",\n",
        "    'VN2': \"SEA\"\n",
        "  }"
      ]
    },
    {
      "cell_type": "code",
      "execution_count": 12,
      "metadata": {
        "id": "3kW78vcsZ2YF"
      },
      "outputs": [],
      "source": [
        "summoners = []\n",
        "for server, region in regions.items():\n",
        "  URL = f\"https://{server.lower()}.api.riotgames.com/lol/league-exp/v4/entries/RANKED_SOLO_5x5/CHALLENGER/I?page=1&api_key={RGKEY}\"\n",
        "  response = requests.get(URL).json()\n",
        "  for player in response:\n",
        "    summoners.append({\"summonerId\": player[\"summonerId\"], \"region\": region, \"server\": server})"
      ]
    },
    {
      "cell_type": "code",
      "execution_count": 15,
      "metadata": {
        "id": "DGyKvk5Rcw_w"
      },
      "outputs": [],
      "source": [
        "summoners = pd.DataFrame(summoners).sample(300)"
      ]
    },
    {
      "cell_type": "markdown",
      "metadata": {},
      "source": [
        "Para fazer a requisição das partidas de cada jogador, precisamos do **puuid**, que pode ser puxado através do **summoneId** que coletamos acima. Para isso iremos fazer requests na rota **summoner** e utilizar o **summonerId** e o **servidor** como parâmetros."
      ]
    },
    {
      "cell_type": "code",
      "execution_count": 16,
      "metadata": {
        "id": "lbd1csjPbWyR"
      },
      "outputs": [],
      "source": [
        "for i, row in summoners.iterrows():\n",
        "  time.sleep(1)\n",
        "  summoner_id = row['summonerId']\n",
        "  server = row['server']\n",
        "\n",
        "  URL = f\"https://{server}.api.riotgames.com/lol/summoner/v4/summoners/{summoner_id}?api_key={RGKEY}\"\n",
        "  response = requests.get(URL).json()\n",
        "\n",
        "  summoners.loc[i, 'puuid'] = response['puuid']"
      ]
    },
    {
      "cell_type": "code",
      "execution_count": 17,
      "metadata": {},
      "outputs": [
        {
          "data": {
            "text/html": [
              "<div>\n",
              "<style scoped>\n",
              "    .dataframe tbody tr th:only-of-type {\n",
              "        vertical-align: middle;\n",
              "    }\n",
              "\n",
              "    .dataframe tbody tr th {\n",
              "        vertical-align: top;\n",
              "    }\n",
              "\n",
              "    .dataframe thead th {\n",
              "        text-align: right;\n",
              "    }\n",
              "</style>\n",
              "<table border=\"1\" class=\"dataframe\">\n",
              "  <thead>\n",
              "    <tr style=\"text-align: right;\">\n",
              "      <th></th>\n",
              "      <th>summonerId</th>\n",
              "      <th>region</th>\n",
              "      <th>server</th>\n",
              "      <th>puuid</th>\n",
              "    </tr>\n",
              "  </thead>\n",
              "  <tbody>\n",
              "    <tr>\n",
              "      <th>662</th>\n",
              "      <td>c9Nba54KkFQ6NI3qL9gY45xgMk7XSlg6AWWWcBaISzjPPq...</td>\n",
              "      <td>SEA</td>\n",
              "      <td>VN2</td>\n",
              "      <td>FYG7pdocudpaUZQMmAvavzbQXsIXGqPXBJsKlBsp6Ttgp7...</td>\n",
              "    </tr>\n",
              "  </tbody>\n",
              "</table>\n",
              "</div>"
            ],
            "text/plain": [
              "                                            summonerId region server  \\\n",
              "662  c9Nba54KkFQ6NI3qL9gY45xgMk7XSlg6AWWWcBaISzjPPq...    SEA    VN2   \n",
              "\n",
              "                                                 puuid  \n",
              "662  FYG7pdocudpaUZQMmAvavzbQXsIXGqPXBJsKlBsp6Ttgp7...  "
            ]
          },
          "execution_count": 17,
          "metadata": {},
          "output_type": "execute_result"
        }
      ],
      "source": [
        "summoners"
      ]
    },
    {
      "cell_type": "markdown",
      "metadata": {},
      "source": [
        "Agora nós temos o **puuid** de dos melhores jogadores do mundo. Nosso próximo passo será consultar as últimas 100 partidas de todos os jogadores. Cada partida tem um ID, vamos fazer a requisição dos **match_ids** utilizando a rota **match** utilizando o **puuid** e a **região** como parâmetros."
      ]
    },
    {
      "cell_type": "code",
      "execution_count": 18,
      "metadata": {
        "id": "ZalE73TEBD4_"
      },
      "outputs": [],
      "source": [
        "matchs = []\n",
        "for i, row in summoners.iterrows():\n",
        "  time.sleep(1)\n",
        "  puuid = row['puuid']\n",
        "  region = row['region']\n",
        "\n",
        "  URL = f\"https://{region}.api.riotgames.com/lol/match/v5/matches/by-puuid/{puuid}/ids?type=ranked&start=0&count=100&api_key={RGKEY}\"\n",
        "  try:\n",
        "    response = requests.get(URL).json()\n",
        "    for id in response:\n",
        "      matchs.append({'match_id': id, 'region': region})\n",
        "  except:\n",
        "    pass"
      ]
    },
    {
      "cell_type": "code",
      "execution_count": 19,
      "metadata": {
        "id": "5C-vXz4HBmCL"
      },
      "outputs": [],
      "source": [
        "matchs = pd.DataFrame(matchs)"
      ]
    },
    {
      "cell_type": "code",
      "execution_count": 20,
      "metadata": {},
      "outputs": [
        {
          "data": {
            "text/html": [
              "<div>\n",
              "<style scoped>\n",
              "    .dataframe tbody tr th:only-of-type {\n",
              "        vertical-align: middle;\n",
              "    }\n",
              "\n",
              "    .dataframe tbody tr th {\n",
              "        vertical-align: top;\n",
              "    }\n",
              "\n",
              "    .dataframe thead th {\n",
              "        text-align: right;\n",
              "    }\n",
              "</style>\n",
              "<table border=\"1\" class=\"dataframe\">\n",
              "  <thead>\n",
              "    <tr style=\"text-align: right;\">\n",
              "      <th></th>\n",
              "      <th>match_id</th>\n",
              "      <th>region</th>\n",
              "    </tr>\n",
              "  </thead>\n",
              "  <tbody>\n",
              "    <tr>\n",
              "      <th>0</th>\n",
              "      <td>VN2_449182594</td>\n",
              "      <td>SEA</td>\n",
              "    </tr>\n",
              "    <tr>\n",
              "      <th>1</th>\n",
              "      <td>VN2_449156174</td>\n",
              "      <td>SEA</td>\n",
              "    </tr>\n",
              "    <tr>\n",
              "      <th>2</th>\n",
              "      <td>VN2_449118838</td>\n",
              "      <td>SEA</td>\n",
              "    </tr>\n",
              "    <tr>\n",
              "      <th>3</th>\n",
              "      <td>VN2_449096415</td>\n",
              "      <td>SEA</td>\n",
              "    </tr>\n",
              "    <tr>\n",
              "      <th>4</th>\n",
              "      <td>VN2_449047525</td>\n",
              "      <td>SEA</td>\n",
              "    </tr>\n",
              "    <tr>\n",
              "      <th>...</th>\n",
              "      <td>...</td>\n",
              "      <td>...</td>\n",
              "    </tr>\n",
              "    <tr>\n",
              "      <th>95</th>\n",
              "      <td>VN2_436545044</td>\n",
              "      <td>SEA</td>\n",
              "    </tr>\n",
              "    <tr>\n",
              "      <th>96</th>\n",
              "      <td>VN2_436498390</td>\n",
              "      <td>SEA</td>\n",
              "    </tr>\n",
              "    <tr>\n",
              "      <th>97</th>\n",
              "      <td>VN2_436457832</td>\n",
              "      <td>SEA</td>\n",
              "    </tr>\n",
              "    <tr>\n",
              "      <th>98</th>\n",
              "      <td>VN2_436436219</td>\n",
              "      <td>SEA</td>\n",
              "    </tr>\n",
              "    <tr>\n",
              "      <th>99</th>\n",
              "      <td>VN2_436388175</td>\n",
              "      <td>SEA</td>\n",
              "    </tr>\n",
              "  </tbody>\n",
              "</table>\n",
              "<p>100 rows × 2 columns</p>\n",
              "</div>"
            ],
            "text/plain": [
              "         match_id region\n",
              "0   VN2_449182594    SEA\n",
              "1   VN2_449156174    SEA\n",
              "2   VN2_449118838    SEA\n",
              "3   VN2_449096415    SEA\n",
              "4   VN2_449047525    SEA\n",
              "..            ...    ...\n",
              "95  VN2_436545044    SEA\n",
              "96  VN2_436498390    SEA\n",
              "97  VN2_436457832    SEA\n",
              "98  VN2_436436219    SEA\n",
              "99  VN2_436388175    SEA\n",
              "\n",
              "[100 rows x 2 columns]"
            ]
          },
          "execution_count": 20,
          "metadata": {},
          "output_type": "execute_result"
        }
      ],
      "source": [
        "matchs"
      ]
    },
    {
      "cell_type": "markdown",
      "metadata": {},
      "source": [
        "### Coletando os dados das partidas.\n",
        "\n",
        "Agora chegamos no nosso último passo, que é coletar todos os dados de todas as partidas. Através da API da Riot, conseguimos informações como a rota em que o jogador jogou, quantidade de abates e mortes, quantidade de sentinelas e pings utilizados, quais itens foram comprados, com qual campeão ele estava jogando, etc...\n",
        "\n",
        "Com todas essas informações, além de entender quais são os fatores que levam um jogador ao topo, poderemos analisar também quais são as melhores composições para times(não se esqueça que o lol é um jogo cooperativo), poderemos entender a melhor forma de construir uma composição que faça sentido para o time, combinações de campeões e itens, etc...\n",
        "\n",
        "Para fazer a coleta dos dados, iremos utilizar a rota **match** novamente e passar o **match_id** como parâmetro. Também iremos criar um dataframe para cada rota, definidas na lista **positions**"
      ]
    },
    {
      "cell_type": "code",
      "execution_count": 21,
      "metadata": {},
      "outputs": [],
      "source": [
        "tops, jgs, mids, adcs, sups = [], [], [], [], []\n",
        "columns_to_remove = ['challenges', 'missions', 'perks']\n",
        "setter = {'TOP': tops, 'JUNGLE': jgs, 'MIDDLE': mids, 'BOTTOM': adcs, 'UTILITY': sups}\n",
        "positions = ['TOP', 'JUNGLE', 'MIDDLE', 'BOTTOM', 'UTILITY']"
      ]
    },
    {
      "cell_type": "code",
      "execution_count": 22,
      "metadata": {
        "id": "1ukU0EBf4aNF"
      },
      "outputs": [],
      "source": [
        "for i, row in matchs.iterrows():\n",
        "  time.sleep(1)\n",
        "  match_id = row['match_id']\n",
        "  region = row['region']\n",
        "\n",
        "  URL = f\"https://{region}.api.riotgames.com/lol/match/v5/matches/{match_id}?api_key={RGKEY}\"\n",
        "  try:\n",
        "    response = requests.get(URL).json()\n",
        "    participants = response['info']['participants']\n",
        "    for participant in participants:\n",
        "      for column in columns_to_remove:\n",
        "        del participant[column]\n",
        "      for position in positions:\n",
        "        if participant['teamPosition'] == position:\n",
        "          setter.get(position).append(participant)\n",
        "  except:\n",
        "    pass\n"
      ]
    },
    {
      "cell_type": "code",
      "execution_count": null,
      "metadata": {},
      "outputs": [],
      "source": [
        "for role, dataframe in setter.items():\n",
        "  pd.DataFrame(dataframe).to_excel(f'original/{role}.xlsx')"
      ]
    }
  ],
  "metadata": {
    "colab": {
      "provenance": []
    },
    "kernelspec": {
      "display_name": "Python 3",
      "name": "python3"
    },
    "language_info": {
      "codemirror_mode": {
        "name": "ipython",
        "version": 3
      },
      "file_extension": ".py",
      "mimetype": "text/x-python",
      "name": "python",
      "nbconvert_exporter": "python",
      "pygments_lexer": "ipython3",
      "version": "3.12.1"
    }
  },
  "nbformat": 4,
  "nbformat_minor": 0
}
