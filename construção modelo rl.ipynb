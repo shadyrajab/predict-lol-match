{
  "cells": [
    {
      "cell_type": "markdown",
      "metadata": {
        "id": "ab6RFOsI3c1I"
      },
      "source": [
        "# Análise de Desempenho em partidas de League of Legends\n",
        "\n",
        "Neste notebook, realizaremos uma análise detalhada dos dados de desempenho de jogadores em partidas de League of Legends. Utilizaremos diversas variáveis que capturam diferentes aspectos do jogo, como desempenho individual, participação em objetivos e interações com o time adversário. O objetivo é testar a acurácia de diferentes modelos preditivos e identificar qual deles apresenta o melhor desempenho para nossas análises.\n",
        "\n",
        "\n",
        "\n",
        "| Nome da Variável | Tipo | Descrição\n",
        "|------------------|------|----------|\n",
        "| baronKills       | int  | Quantidade de barões de nashor feitos |\n",
        "| bountyLevel      | int  | O nível de recompensa do jogador(quantidade de ouro que ele está valendo) |\n",
        "| champLevel       | int  | O nível do campeão |\n",
        "| championName     | str  | O nome do campeão  |\n",
        "| consumablesPurchased | int | A quantidade de itens consumíveis comprados |\n",
        "| damageDealtToObjectives | int | O total de dano dado em objetivos |\n",
        "| damageSelfMitigated | int | O total de dano auto-mitigado de inimigos |\n",
        "| dragonKills | int | Quantidade de dragões feitos |\n",
        "| firstBloodAssist | bool | Se o jogador teve participação na primeira kill do jogo |\n",
        "| firstTowerAssist | bool | Se o jogador teve participação na primeira torre derrubada no jogo |\n",
        "| goldSpent | int | Total de ouro gasto durante a partida\n",
        "| individualPosition | str | A posição na qual o jogador jogou |\n",
        "| inhibitorTakedowns | int | Quantidade de inibidores derrubados |\n",
        "| inhibitorsLost | int | Quantidade de inibidores perdidos |\n",
        "| item0 | str | Nome do Item 0 |\n",
        "| item1 | str | Nome do Item 1 |\n",
        "| item2 | str | Nome do Item 2 |\n",
        "| item3 | str | Nome do Item 3 |\n",
        "| item4 | str | Nome do Item 4 |\n",
        "| item5 | str | Nome do Item 5 |\n",
        "| item6 | str | Nome do Item 6 |\n",
        "| longestTimeSpentLiving | int | Maior quantidade de tempo sem morrer |\n",
        "| magicDamageDealtToChampions | int | Total de dano mágico causado |\n",
        "| objectivesStolenAssists | int | Quantidade de participações em objetivos roubados |\n",
        "| physicalDamageDealtToChampions | int | Dano físico causado em outros jogadores |\n",
        "| spell1Casts | int | Quantidade que a skill \"Q\" foi utilizada |\n",
        "| spell2Casts | int | Quantidade que a skill \"W\" foi utilizada |\n",
        "| spell3Casts | int | Quantidade que a skill \"E\" foi utilizada |\n",
        "| spell4Casts | int | Quantidade que a skill \"R\" foi utilizada |\n",
        "| summoner1Casts | int | Quantidade que a skill \"D\" foi utilizada |\n",
        "| summoner2Casts | int | Quantidade que a skill \"F\" foi utilizada |\n",
        "| summoner1Id | str | Feitiço de invocador 1 |\n",
        "| summoner2Id | str | Feitiço de invocador 2 |\n",
        "| teamId | int | O lado do mapa que o jogador jogou |\n",
        "| timeCCingOthers | int | Tempo de atordoamento causado à jogadores inimigos |\n",
        "| timePlayed | int | Tempo de partida |\n",
        "| totalDamageDealtToChampions | int | Dano total causado |\n",
        "| totalDamageTaken |int | Dano total sofrido |\n",
        "| totalHeal | int | Cura total recebida |\n",
        "| totalHealsOnTeammates | int | Cura total dada ao time aliado |\n",
        "| totalTimeSpentDead | int | Tempo passado morto |\n",
        "| trueDamageDealtToChampions | int | Total de dano verdadeiro causado |\n",
        "| turretTakedowns | int | Quantidade de torres derrubadas |\n",
        "| turretsLost | int | Quantidade de torres perdidas |\n",
        "| visionScore | int | Score de visão |\n",
        "| win | bool | Se a partida foi vencida ou não |\n",
        "| allPings | int | Quantidade de pings feitos |\n",
        "| participations | int | Quantidade de participações em abates |\n",
        "| totalFarm | int | Quantidade de farm |"
      ]
    },
    {
      "cell_type": "code",
      "execution_count": 2,
      "metadata": {
        "id": "byRY8Nd72DBG"
      },
      "outputs": [],
      "source": [
        "import numpy as np\n",
        "import pandas as pd\n",
        "from sklearn.model_selection import train_test_split, cross_val_score\n",
        "import matplotlib.pyplot as plt\n",
        "from sklearn.metrics import accuracy_score, classification_report\n",
        "from sklearn.linear_model import LogisticRegression\n",
        "from sklearn.neighbors import KNeighborsClassifier\n",
        "from sklearn.tree import DecisionTreeClassifier\n",
        "from sklearn.model_selection import RandomizedSearchCV\n",
        "import statsmodels.api as sm\n",
        "from sklearn.compose import ColumnTransformer\n",
        "from sklearn.ensemble import RandomForestClassifier, GradientBoostingClassifier\n",
        "from sklearn.feature_selection import SelectKBest, f_classif\n",
        "from sklearn.preprocessing import StandardScaler, MinMaxScaler, RobustScaler, OneHotEncoder\n",
        "from sklearn.neural_network import MLPClassifier\n",
        "from scipy.stats import uniform, randint\n",
        "from imblearn.over_sampling import SMOTE\n",
        "from sklearn.model_selection import learning_curve\n",
        "from sklearn.base import TransformerMixin, BaseEstimator\n",
        "\n",
        "from sklearn.decomposition import PCA\n",
        "from sklearn.pipeline import Pipeline"
      ]
    },
    {
      "cell_type": "code",
      "execution_count": 4,
      "metadata": {
        "id": "oN8pTmUX3E9H"
      },
      "outputs": [],
      "source": [
        "df = pd.read_excel(\"content/MATCHS.xlsx\", index_col=[0])"
      ]
    },
    {
      "cell_type": "code",
      "execution_count": null,
      "metadata": {
        "colab": {
          "base_uri": "https://localhost:8080/",
          "height": 256
        },
        "id": "kH8ysKuM72nu",
        "outputId": "9729fa4b-f710-400b-af95-8621bcf95a1f"
      },
      "outputs": [
        {
          "data": {
            "application/vnd.google.colaboratory.intrinsic+json": {
              "type": "dataframe",
              "variable_name": "df"
            },
            "text/html": [
              "\n",
              "  <div id=\"df-e6c5d318-ece3-4633-9fc5-8f795ce55fd9\" class=\"colab-df-container\">\n",
              "    <div>\n",
              "<style scoped>\n",
              "    .dataframe tbody tr th:only-of-type {\n",
              "        vertical-align: middle;\n",
              "    }\n",
              "\n",
              "    .dataframe tbody tr th {\n",
              "        vertical-align: top;\n",
              "    }\n",
              "\n",
              "    .dataframe thead th {\n",
              "        text-align: right;\n",
              "    }\n",
              "</style>\n",
              "<table border=\"1\" class=\"dataframe\">\n",
              "  <thead>\n",
              "    <tr style=\"text-align: right;\">\n",
              "      <th></th>\n",
              "      <th>baronKills</th>\n",
              "      <th>bountyLevel</th>\n",
              "      <th>champLevel</th>\n",
              "      <th>championName</th>\n",
              "      <th>consumablesPurchased</th>\n",
              "      <th>damageDealtToObjectives</th>\n",
              "      <th>damageSelfMitigated</th>\n",
              "      <th>deaths</th>\n",
              "      <th>dragonKills</th>\n",
              "      <th>firstBloodAssist</th>\n",
              "      <th>...</th>\n",
              "      <th>totalHealsOnTeammates</th>\n",
              "      <th>totalTimeSpentDead</th>\n",
              "      <th>trueDamageDealtToChampions</th>\n",
              "      <th>turretTakedowns</th>\n",
              "      <th>turretsLost</th>\n",
              "      <th>visionScore</th>\n",
              "      <th>win</th>\n",
              "      <th>allPings</th>\n",
              "      <th>participations</th>\n",
              "      <th>totalFarm</th>\n",
              "    </tr>\n",
              "  </thead>\n",
              "  <tbody>\n",
              "    <tr>\n",
              "      <th>0</th>\n",
              "      <td>0</td>\n",
              "      <td>0</td>\n",
              "      <td>14</td>\n",
              "      <td>Fiora</td>\n",
              "      <td>2</td>\n",
              "      <td>980</td>\n",
              "      <td>16253</td>\n",
              "      <td>6</td>\n",
              "      <td>0</td>\n",
              "      <td>False</td>\n",
              "      <td>...</td>\n",
              "      <td>1029</td>\n",
              "      <td>140</td>\n",
              "      <td>3415</td>\n",
              "      <td>0</td>\n",
              "      <td>9</td>\n",
              "      <td>19</td>\n",
              "      <td>False</td>\n",
              "      <td>30</td>\n",
              "      <td>6</td>\n",
              "      <td>175</td>\n",
              "    </tr>\n",
              "    <tr>\n",
              "      <th>1</th>\n",
              "      <td>0</td>\n",
              "      <td>0</td>\n",
              "      <td>15</td>\n",
              "      <td>Volibear</td>\n",
              "      <td>5</td>\n",
              "      <td>25655</td>\n",
              "      <td>28308</td>\n",
              "      <td>4</td>\n",
              "      <td>1</td>\n",
              "      <td>False</td>\n",
              "      <td>...</td>\n",
              "      <td>0</td>\n",
              "      <td>102</td>\n",
              "      <td>1296</td>\n",
              "      <td>6</td>\n",
              "      <td>2</td>\n",
              "      <td>27</td>\n",
              "      <td>True</td>\n",
              "      <td>11</td>\n",
              "      <td>13</td>\n",
              "      <td>184</td>\n",
              "    </tr>\n",
              "    <tr>\n",
              "      <th>2</th>\n",
              "      <td>0</td>\n",
              "      <td>1</td>\n",
              "      <td>15</td>\n",
              "      <td>Yasuo</td>\n",
              "      <td>1</td>\n",
              "      <td>12196</td>\n",
              "      <td>21453</td>\n",
              "      <td>3</td>\n",
              "      <td>0</td>\n",
              "      <td>False</td>\n",
              "      <td>...</td>\n",
              "      <td>0</td>\n",
              "      <td>97</td>\n",
              "      <td>0</td>\n",
              "      <td>7</td>\n",
              "      <td>1</td>\n",
              "      <td>11</td>\n",
              "      <td>True</td>\n",
              "      <td>32</td>\n",
              "      <td>7</td>\n",
              "      <td>220</td>\n",
              "    </tr>\n",
              "    <tr>\n",
              "      <th>3</th>\n",
              "      <td>0</td>\n",
              "      <td>1</td>\n",
              "      <td>13</td>\n",
              "      <td>Camille</td>\n",
              "      <td>2</td>\n",
              "      <td>0</td>\n",
              "      <td>22121</td>\n",
              "      <td>5</td>\n",
              "      <td>0</td>\n",
              "      <td>False</td>\n",
              "      <td>...</td>\n",
              "      <td>0</td>\n",
              "      <td>148</td>\n",
              "      <td>3517</td>\n",
              "      <td>0</td>\n",
              "      <td>11</td>\n",
              "      <td>14</td>\n",
              "      <td>False</td>\n",
              "      <td>20</td>\n",
              "      <td>8</td>\n",
              "      <td>164</td>\n",
              "    </tr>\n",
              "    <tr>\n",
              "      <th>4</th>\n",
              "      <td>0</td>\n",
              "      <td>2</td>\n",
              "      <td>14</td>\n",
              "      <td>Fiora</td>\n",
              "      <td>1</td>\n",
              "      <td>9801</td>\n",
              "      <td>24503</td>\n",
              "      <td>5</td>\n",
              "      <td>0</td>\n",
              "      <td>False</td>\n",
              "      <td>...</td>\n",
              "      <td>2074</td>\n",
              "      <td>144</td>\n",
              "      <td>5003</td>\n",
              "      <td>5</td>\n",
              "      <td>2</td>\n",
              "      <td>14</td>\n",
              "      <td>True</td>\n",
              "      <td>8</td>\n",
              "      <td>4</td>\n",
              "      <td>204</td>\n",
              "    </tr>\n",
              "  </tbody>\n",
              "</table>\n",
              "<p>5 rows × 50 columns</p>\n",
              "</div>\n",
              "    <div class=\"colab-df-buttons\">\n",
              "\n",
              "  <div class=\"colab-df-container\">\n",
              "    <button class=\"colab-df-convert\" onclick=\"convertToInteractive('df-e6c5d318-ece3-4633-9fc5-8f795ce55fd9')\"\n",
              "            title=\"Convert this dataframe to an interactive table.\"\n",
              "            style=\"display:none;\">\n",
              "\n",
              "  <svg xmlns=\"http://www.w3.org/2000/svg\" height=\"24px\" viewBox=\"0 -960 960 960\">\n",
              "    <path d=\"M120-120v-720h720v720H120Zm60-500h600v-160H180v160Zm220 220h160v-160H400v160Zm0 220h160v-160H400v160ZM180-400h160v-160H180v160Zm440 0h160v-160H620v160ZM180-180h160v-160H180v160Zm440 0h160v-160H620v160Z\"/>\n",
              "  </svg>\n",
              "    </button>\n",
              "\n",
              "  <style>\n",
              "    .colab-df-container {\n",
              "      display:flex;\n",
              "      gap: 12px;\n",
              "    }\n",
              "\n",
              "    .colab-df-convert {\n",
              "      background-color: #E8F0FE;\n",
              "      border: none;\n",
              "      border-radius: 50%;\n",
              "      cursor: pointer;\n",
              "      display: none;\n",
              "      fill: #1967D2;\n",
              "      height: 32px;\n",
              "      padding: 0 0 0 0;\n",
              "      width: 32px;\n",
              "    }\n",
              "\n",
              "    .colab-df-convert:hover {\n",
              "      background-color: #E2EBFA;\n",
              "      box-shadow: 0px 1px 2px rgba(60, 64, 67, 0.3), 0px 1px 3px 1px rgba(60, 64, 67, 0.15);\n",
              "      fill: #174EA6;\n",
              "    }\n",
              "\n",
              "    .colab-df-buttons div {\n",
              "      margin-bottom: 4px;\n",
              "    }\n",
              "\n",
              "    [theme=dark] .colab-df-convert {\n",
              "      background-color: #3B4455;\n",
              "      fill: #D2E3FC;\n",
              "    }\n",
              "\n",
              "    [theme=dark] .colab-df-convert:hover {\n",
              "      background-color: #434B5C;\n",
              "      box-shadow: 0px 1px 3px 1px rgba(0, 0, 0, 0.15);\n",
              "      filter: drop-shadow(0px 1px 2px rgba(0, 0, 0, 0.3));\n",
              "      fill: #FFFFFF;\n",
              "    }\n",
              "  </style>\n",
              "\n",
              "    <script>\n",
              "      const buttonEl =\n",
              "        document.querySelector('#df-e6c5d318-ece3-4633-9fc5-8f795ce55fd9 button.colab-df-convert');\n",
              "      buttonEl.style.display =\n",
              "        google.colab.kernel.accessAllowed ? 'block' : 'none';\n",
              "\n",
              "      async function convertToInteractive(key) {\n",
              "        const element = document.querySelector('#df-e6c5d318-ece3-4633-9fc5-8f795ce55fd9');\n",
              "        const dataTable =\n",
              "          await google.colab.kernel.invokeFunction('convertToInteractive',\n",
              "                                                    [key], {});\n",
              "        if (!dataTable) return;\n",
              "\n",
              "        const docLinkHtml = 'Like what you see? Visit the ' +\n",
              "          '<a target=\"_blank\" href=https://colab.research.google.com/notebooks/data_table.ipynb>data table notebook</a>'\n",
              "          + ' to learn more about interactive tables.';\n",
              "        element.innerHTML = '';\n",
              "        dataTable['output_type'] = 'display_data';\n",
              "        await google.colab.output.renderOutput(dataTable, element);\n",
              "        const docLink = document.createElement('div');\n",
              "        docLink.innerHTML = docLinkHtml;\n",
              "        element.appendChild(docLink);\n",
              "      }\n",
              "    </script>\n",
              "  </div>\n",
              "\n",
              "\n",
              "<div id=\"df-65f90b1e-165c-4c2c-88a7-d4f28584cd5e\">\n",
              "  <button class=\"colab-df-quickchart\" onclick=\"quickchart('df-65f90b1e-165c-4c2c-88a7-d4f28584cd5e')\"\n",
              "            title=\"Suggest charts\"\n",
              "            style=\"display:none;\">\n",
              "\n",
              "<svg xmlns=\"http://www.w3.org/2000/svg\" height=\"24px\"viewBox=\"0 0 24 24\"\n",
              "     width=\"24px\">\n",
              "    <g>\n",
              "        <path d=\"M19 3H5c-1.1 0-2 .9-2 2v14c0 1.1.9 2 2 2h14c1.1 0 2-.9 2-2V5c0-1.1-.9-2-2-2zM9 17H7v-7h2v7zm4 0h-2V7h2v10zm4 0h-2v-4h2v4z\"/>\n",
              "    </g>\n",
              "</svg>\n",
              "  </button>\n",
              "\n",
              "<style>\n",
              "  .colab-df-quickchart {\n",
              "      --bg-color: #E8F0FE;\n",
              "      --fill-color: #1967D2;\n",
              "      --hover-bg-color: #E2EBFA;\n",
              "      --hover-fill-color: #174EA6;\n",
              "      --disabled-fill-color: #AAA;\n",
              "      --disabled-bg-color: #DDD;\n",
              "  }\n",
              "\n",
              "  [theme=dark] .colab-df-quickchart {\n",
              "      --bg-color: #3B4455;\n",
              "      --fill-color: #D2E3FC;\n",
              "      --hover-bg-color: #434B5C;\n",
              "      --hover-fill-color: #FFFFFF;\n",
              "      --disabled-bg-color: #3B4455;\n",
              "      --disabled-fill-color: #666;\n",
              "  }\n",
              "\n",
              "  .colab-df-quickchart {\n",
              "    background-color: var(--bg-color);\n",
              "    border: none;\n",
              "    border-radius: 50%;\n",
              "    cursor: pointer;\n",
              "    display: none;\n",
              "    fill: var(--fill-color);\n",
              "    height: 32px;\n",
              "    padding: 0;\n",
              "    width: 32px;\n",
              "  }\n",
              "\n",
              "  .colab-df-quickchart:hover {\n",
              "    background-color: var(--hover-bg-color);\n",
              "    box-shadow: 0 1px 2px rgba(60, 64, 67, 0.3), 0 1px 3px 1px rgba(60, 64, 67, 0.15);\n",
              "    fill: var(--button-hover-fill-color);\n",
              "  }\n",
              "\n",
              "  .colab-df-quickchart-complete:disabled,\n",
              "  .colab-df-quickchart-complete:disabled:hover {\n",
              "    background-color: var(--disabled-bg-color);\n",
              "    fill: var(--disabled-fill-color);\n",
              "    box-shadow: none;\n",
              "  }\n",
              "\n",
              "  .colab-df-spinner {\n",
              "    border: 2px solid var(--fill-color);\n",
              "    border-color: transparent;\n",
              "    border-bottom-color: var(--fill-color);\n",
              "    animation:\n",
              "      spin 1s steps(1) infinite;\n",
              "  }\n",
              "\n",
              "  @keyframes spin {\n",
              "    0% {\n",
              "      border-color: transparent;\n",
              "      border-bottom-color: var(--fill-color);\n",
              "      border-left-color: var(--fill-color);\n",
              "    }\n",
              "    20% {\n",
              "      border-color: transparent;\n",
              "      border-left-color: var(--fill-color);\n",
              "      border-top-color: var(--fill-color);\n",
              "    }\n",
              "    30% {\n",
              "      border-color: transparent;\n",
              "      border-left-color: var(--fill-color);\n",
              "      border-top-color: var(--fill-color);\n",
              "      border-right-color: var(--fill-color);\n",
              "    }\n",
              "    40% {\n",
              "      border-color: transparent;\n",
              "      border-right-color: var(--fill-color);\n",
              "      border-top-color: var(--fill-color);\n",
              "    }\n",
              "    60% {\n",
              "      border-color: transparent;\n",
              "      border-right-color: var(--fill-color);\n",
              "    }\n",
              "    80% {\n",
              "      border-color: transparent;\n",
              "      border-right-color: var(--fill-color);\n",
              "      border-bottom-color: var(--fill-color);\n",
              "    }\n",
              "    90% {\n",
              "      border-color: transparent;\n",
              "      border-bottom-color: var(--fill-color);\n",
              "    }\n",
              "  }\n",
              "</style>\n",
              "\n",
              "  <script>\n",
              "    async function quickchart(key) {\n",
              "      const quickchartButtonEl =\n",
              "        document.querySelector('#' + key + ' button');\n",
              "      quickchartButtonEl.disabled = true;  // To prevent multiple clicks.\n",
              "      quickchartButtonEl.classList.add('colab-df-spinner');\n",
              "      try {\n",
              "        const charts = await google.colab.kernel.invokeFunction(\n",
              "            'suggestCharts', [key], {});\n",
              "      } catch (error) {\n",
              "        console.error('Error during call to suggestCharts:', error);\n",
              "      }\n",
              "      quickchartButtonEl.classList.remove('colab-df-spinner');\n",
              "      quickchartButtonEl.classList.add('colab-df-quickchart-complete');\n",
              "    }\n",
              "    (() => {\n",
              "      let quickchartButtonEl =\n",
              "        document.querySelector('#df-65f90b1e-165c-4c2c-88a7-d4f28584cd5e button');\n",
              "      quickchartButtonEl.style.display =\n",
              "        google.colab.kernel.accessAllowed ? 'block' : 'none';\n",
              "    })();\n",
              "  </script>\n",
              "</div>\n",
              "\n",
              "    </div>\n",
              "  </div>\n"
            ],
            "text/plain": [
              "   baronKills  bountyLevel  champLevel championName  consumablesPurchased  \\\n",
              "0           0            0          14        Fiora                     2   \n",
              "1           0            0          15     Volibear                     5   \n",
              "2           0            1          15        Yasuo                     1   \n",
              "3           0            1          13      Camille                     2   \n",
              "4           0            2          14        Fiora                     1   \n",
              "\n",
              "   damageDealtToObjectives  damageSelfMitigated  deaths  dragonKills  \\\n",
              "0                      980                16253       6            0   \n",
              "1                    25655                28308       4            1   \n",
              "2                    12196                21453       3            0   \n",
              "3                        0                22121       5            0   \n",
              "4                     9801                24503       5            0   \n",
              "\n",
              "   firstBloodAssist  ...  totalHealsOnTeammates  totalTimeSpentDead  \\\n",
              "0             False  ...                   1029                 140   \n",
              "1             False  ...                      0                 102   \n",
              "2             False  ...                      0                  97   \n",
              "3             False  ...                      0                 148   \n",
              "4             False  ...                   2074                 144   \n",
              "\n",
              "  trueDamageDealtToChampions  turretTakedowns  turretsLost visionScore    win  \\\n",
              "0                       3415                0            9          19  False   \n",
              "1                       1296                6            2          27   True   \n",
              "2                          0                7            1          11   True   \n",
              "3                       3517                0           11          14  False   \n",
              "4                       5003                5            2          14   True   \n",
              "\n",
              "  allPings participations totalFarm  \n",
              "0       30              6       175  \n",
              "1       11             13       184  \n",
              "2       32              7       220  \n",
              "3       20              8       164  \n",
              "4        8              4       204  \n",
              "\n",
              "[5 rows x 50 columns]"
            ]
          },
          "execution_count": 3,
          "metadata": {},
          "output_type": "execute_result"
        }
      ],
      "source": [
        "df.head()"
      ]
    },
    {
      "cell_type": "code",
      "execution_count": null,
      "metadata": {
        "id": "LNNlU1js8ntD"
      },
      "outputs": [],
      "source": [
        "bool_cols = df.select_dtypes(include=['bool']).columns\n",
        "df[bool_cols] = df[bool_cols].astype(int)"
      ]
    },
    {
      "cell_type": "code",
      "execution_count": null,
      "metadata": {
        "id": "W57ZJzC5RD7h"
      },
      "outputs": [],
      "source": [
        "dum = pd.get_dummies(df).sample(30000)"
      ]
    },
    {
      "cell_type": "code",
      "execution_count": null,
      "metadata": {
        "id": "HsXxIKMzRJ9B"
      },
      "outputs": [],
      "source": [
        "X = dum.drop('win', axis=1)\n",
        "y = dum['win']"
      ]
    },
    {
      "cell_type": "code",
      "execution_count": null,
      "metadata": {
        "id": "gYxA2GKKRMqU"
      },
      "outputs": [],
      "source": [
        "X_train, X_test, y_train, y_test = train_test_split(X, y, test_size=0.2, random_state=42)"
      ]
    },
    {
      "cell_type": "code",
      "execution_count": null,
      "metadata": {
        "id": "O8SNveBzRN1C"
      },
      "outputs": [],
      "source": [
        "scaler = StandardScaler()\n",
        "X_train = scaler.fit_transform(X_train)\n",
        "X_test = scaler.transform(X_test)\n",
        "X_all = scaler.fit_transform(X)"
      ]
    },
    {
      "cell_type": "markdown",
      "metadata": {
        "id": "-s0DbdTFjW8j"
      },
      "source": [
        "# Escolhendo o melhor modelo para nosso objetivo\n",
        "\n",
        "Iremos treinar 6 modelos diferentes e escolher o modelo com a melhor acurácia na base de testes. Depois vamos utilizar um Random Search para encontrar os melhores hiperparâmetros para o modelo escolhido."
      ]
    },
    {
      "cell_type": "code",
      "execution_count": null,
      "metadata": {
        "id": "WC8a17WORQOB"
      },
      "outputs": [],
      "source": [
        "models = {\n",
        "    'Logistic Regression': LogisticRegression(max_iter=1000),\n",
        "    'KNN': KNeighborsClassifier(),\n",
        "    'Decision Tree': DecisionTreeClassifier(),\n",
        "    'Random Forest': RandomForestClassifier(),\n",
        "    'Gradient Boosting': GradientBoostingClassifier(),\n",
        "    'Neural Network': MLPClassifier(max_iter=1000)\n",
        "}"
      ]
    },
    {
      "cell_type": "code",
      "execution_count": null,
      "metadata": {
        "id": "9E_fcVK6RVNe"
      },
      "outputs": [],
      "source": [
        "results = {}\n",
        "for name, model in models.items():\n",
        "    model.fit(X_train, y_train)\n",
        "    y_pred = model.predict(X_test)\n",
        "    accuracy = accuracy_score(y_test, y_pred)\n",
        "    results[name] = accuracy"
      ]
    },
    {
      "cell_type": "code",
      "execution_count": null,
      "metadata": {
        "colab": {
          "base_uri": "https://localhost:8080/"
        },
        "id": "pYYfn46SRcXQ",
        "outputId": "b4800b3a-4ede-4028-bb7e-9af2fd8f3972"
      },
      "outputs": [
        {
          "name": "stdout",
          "output_type": "stream",
          "text": [
            "Melhor modelo: Gradient Boosting com acurácia de 0.9705\n"
          ]
        }
      ],
      "source": [
        "best_model_name = max(results, key=results.get)\n",
        "best_model = models[best_model_name]\n",
        "print(f\"Melhor modelo: {best_model_name} com acurácia de {results[best_model_name]}\")"
      ]
    },
    {
      "cell_type": "code",
      "execution_count": null,
      "metadata": {
        "colab": {
          "base_uri": "https://localhost:8080/"
        },
        "id": "fA0Ah16ARc2j",
        "outputId": "5ae77c02-f6b8-4b53-bed7-b957b72cbfd8"
      },
      "outputs": [
        {
          "data": {
            "text/plain": [
              "{'Logistic Regression': 0.9578333333333333,\n",
              " 'KNN': 0.5753333333333334,\n",
              " 'Decision Tree': 0.9505,\n",
              " 'Random Forest': 0.9606666666666667,\n",
              " 'Gradient Boosting': 0.9705,\n",
              " 'Neural Network': 0.9495}"
            ]
          },
          "execution_count": 12,
          "metadata": {},
          "output_type": "execute_result"
        }
      ],
      "source": [
        "results"
      ]
    },
    {
      "cell_type": "markdown",
      "metadata": {
        "id": "UZx-ArRnI3As"
      },
      "source": [
        "#### O melhor modelo testado foi o Gradient Boosting. Agora iremos utilizar um Random Search para encontrar os melhores hiperparâmetros para nosso modelo"
      ]
    },
    {
      "cell_type": "code",
      "execution_count": null,
      "metadata": {
        "id": "mHa5OIQBkwAv"
      },
      "outputs": [],
      "source": [
        "param_dist = {\n",
        "    'n_estimators': randint(50, 200),\n",
        "    'learning_rate': uniform(0.01, 0.3),\n",
        "    'max_depth': randint(3, 10),\n",
        "    'min_samples_split': randint(2, 20),\n",
        "    'min_samples_leaf': randint(1, 10),\n",
        "    'subsample': uniform(0.5, 1.0),\n",
        "    'max_features': ['auto', 'sqrt', 'log2', None]\n",
        "}"
      ]
    },
    {
      "cell_type": "code",
      "execution_count": null,
      "metadata": {
        "id": "vl4VmlwtkxRv"
      },
      "outputs": [],
      "source": [
        "model = GradientBoostingClassifier()"
      ]
    },
    {
      "cell_type": "code",
      "execution_count": null,
      "metadata": {
        "id": "YR8IcyaSk1Hu"
      },
      "outputs": [],
      "source": [
        "random_search = RandomizedSearchCV(\n",
        "    model,\n",
        "    param_distributions=param_dist,\n",
        "    n_iter=30,\n",
        "    scoring='accuracy',\n",
        "    cv=3,\n",
        "    verbose=2,\n",
        "    n_jobs=-1,\n",
        "    random_state=42\n",
        ")"
      ]
    },
    {
      "cell_type": "code",
      "execution_count": null,
      "metadata": {
        "id": "IGiXXuQpk-zT"
      },
      "outputs": [],
      "source": [
        "random_search.fit(X_train, y_train)"
      ]
    },
    {
      "cell_type": "code",
      "execution_count": null,
      "metadata": {
        "id": "gNnqLBz1lAxE"
      },
      "outputs": [],
      "source": [
        "best_params = random_search.best_params_\n",
        "best_score = random_search.best_score_"
      ]
    },
    {
      "cell_type": "markdown",
      "metadata": {
        "id": "JKe2pJVRf7Lh"
      },
      "source": [
        "#### Os melhores parâmetros para a construção do nosso modelo de Regressão são os parâmetros abaixo."
      ]
    },
    {
      "cell_type": "code",
      "execution_count": null,
      "metadata": {
        "colab": {
          "base_uri": "https://localhost:8080/"
        },
        "id": "EgjkX_zdMOwB",
        "outputId": "a2bdf877-144e-482d-ce60-dac856296e62"
      },
      "outputs": [
        {
          "data": {
            "text/plain": [
              "{'learning_rate': 0.21889128185193651,\n",
              " 'max_depth': 5,\n",
              " 'max_features': 'auto',\n",
              " 'min_samples_leaf': 5,\n",
              " 'min_samples_split': 18,\n",
              " 'n_estimators': 130,\n",
              " 'subsample': 0.766781014275285}"
            ]
          },
          "execution_count": 19,
          "metadata": {},
          "output_type": "execute_result"
        }
      ],
      "source": [
        "best_params"
      ]
    },
    {
      "cell_type": "markdown",
      "metadata": {
        "id": "A9zQjfG7vOyW"
      },
      "source": [
        "#### Agora iremos escolher o melhor número de componentes para o nossa redução de dimensionalidade\n",
        "\n",
        "\n"
      ]
    },
    {
      "cell_type": "code",
      "execution_count": null,
      "metadata": {
        "id": "cFU2e5d6goCB"
      },
      "outputs": [],
      "source": [
        "dum = pd.get_dummies(df)"
      ]
    },
    {
      "cell_type": "code",
      "execution_count": null,
      "metadata": {
        "id": "RxCpWCr8jiyx"
      },
      "outputs": [],
      "source": [
        "scaler = StandardScaler()\n",
        "scaled = scaler.fit_transform(dum.drop(columns='win'))"
      ]
    },
    {
      "cell_type": "code",
      "execution_count": null,
      "metadata": {
        "colab": {
          "base_uri": "https://localhost:8080/",
          "height": 75
        },
        "id": "Ar7Qimsojnq8",
        "outputId": "206becb3-bdef-4d9b-bae9-56883e4adc83"
      },
      "outputs": [
        {
          "data": {
            "text/html": [
              "<style>#sk-container-id-5 {color: black;background-color: white;}#sk-container-id-5 pre{padding: 0;}#sk-container-id-5 div.sk-toggleable {background-color: white;}#sk-container-id-5 label.sk-toggleable__label {cursor: pointer;display: block;width: 100%;margin-bottom: 0;padding: 0.3em;box-sizing: border-box;text-align: center;}#sk-container-id-5 label.sk-toggleable__label-arrow:before {content: \"▸\";float: left;margin-right: 0.25em;color: #696969;}#sk-container-id-5 label.sk-toggleable__label-arrow:hover:before {color: black;}#sk-container-id-5 div.sk-estimator:hover label.sk-toggleable__label-arrow:before {color: black;}#sk-container-id-5 div.sk-toggleable__content {max-height: 0;max-width: 0;overflow: hidden;text-align: left;background-color: #f0f8ff;}#sk-container-id-5 div.sk-toggleable__content pre {margin: 0.2em;color: black;border-radius: 0.25em;background-color: #f0f8ff;}#sk-container-id-5 input.sk-toggleable__control:checked~div.sk-toggleable__content {max-height: 200px;max-width: 100%;overflow: auto;}#sk-container-id-5 input.sk-toggleable__control:checked~label.sk-toggleable__label-arrow:before {content: \"▾\";}#sk-container-id-5 div.sk-estimator input.sk-toggleable__control:checked~label.sk-toggleable__label {background-color: #d4ebff;}#sk-container-id-5 div.sk-label input.sk-toggleable__control:checked~label.sk-toggleable__label {background-color: #d4ebff;}#sk-container-id-5 input.sk-hidden--visually {border: 0;clip: rect(1px 1px 1px 1px);clip: rect(1px, 1px, 1px, 1px);height: 1px;margin: -1px;overflow: hidden;padding: 0;position: absolute;width: 1px;}#sk-container-id-5 div.sk-estimator {font-family: monospace;background-color: #f0f8ff;border: 1px dotted black;border-radius: 0.25em;box-sizing: border-box;margin-bottom: 0.5em;}#sk-container-id-5 div.sk-estimator:hover {background-color: #d4ebff;}#sk-container-id-5 div.sk-parallel-item::after {content: \"\";width: 100%;border-bottom: 1px solid gray;flex-grow: 1;}#sk-container-id-5 div.sk-label:hover label.sk-toggleable__label {background-color: #d4ebff;}#sk-container-id-5 div.sk-serial::before {content: \"\";position: absolute;border-left: 1px solid gray;box-sizing: border-box;top: 0;bottom: 0;left: 50%;z-index: 0;}#sk-container-id-5 div.sk-serial {display: flex;flex-direction: column;align-items: center;background-color: white;padding-right: 0.2em;padding-left: 0.2em;position: relative;}#sk-container-id-5 div.sk-item {position: relative;z-index: 1;}#sk-container-id-5 div.sk-parallel {display: flex;align-items: stretch;justify-content: center;background-color: white;position: relative;}#sk-container-id-5 div.sk-item::before, #sk-container-id-5 div.sk-parallel-item::before {content: \"\";position: absolute;border-left: 1px solid gray;box-sizing: border-box;top: 0;bottom: 0;left: 50%;z-index: -1;}#sk-container-id-5 div.sk-parallel-item {display: flex;flex-direction: column;z-index: 1;position: relative;background-color: white;}#sk-container-id-5 div.sk-parallel-item:first-child::after {align-self: flex-end;width: 50%;}#sk-container-id-5 div.sk-parallel-item:last-child::after {align-self: flex-start;width: 50%;}#sk-container-id-5 div.sk-parallel-item:only-child::after {width: 0;}#sk-container-id-5 div.sk-dashed-wrapped {border: 1px dashed gray;margin: 0 0.4em 0.5em 0.4em;box-sizing: border-box;padding-bottom: 0.4em;background-color: white;}#sk-container-id-5 div.sk-label label {font-family: monospace;font-weight: bold;display: inline-block;line-height: 1.2em;}#sk-container-id-5 div.sk-label-container {text-align: center;}#sk-container-id-5 div.sk-container {/* jupyter's `normalize.less` sets `[hidden] { display: none; }` but bootstrap.min.css set `[hidden] { display: none !important; }` so we also need the `!important` here to be able to override the default hidden behavior on the sphinx rendered scikit-learn.org. See: https://github.com/scikit-learn/scikit-learn/issues/21755 */display: inline-block !important;position: relative;}#sk-container-id-5 div.sk-text-repr-fallback {display: none;}</style><div id=\"sk-container-id-5\" class=\"sk-top-container\"><div class=\"sk-text-repr-fallback\"><pre>PCA()</pre><b>In a Jupyter environment, please rerun this cell to show the HTML representation or trust the notebook. <br />On GitHub, the HTML representation is unable to render, please try loading this page with nbviewer.org.</b></div><div class=\"sk-container\" hidden><div class=\"sk-item\"><div class=\"sk-estimator sk-toggleable\"><input class=\"sk-toggleable__control sk-hidden--visually\" id=\"sk-estimator-id-5\" type=\"checkbox\" checked><label for=\"sk-estimator-id-5\" class=\"sk-toggleable__label sk-toggleable__label-arrow\">PCA</label><div class=\"sk-toggleable__content\"><pre>PCA()</pre></div></div></div></div></div>"
            ],
            "text/plain": [
              "PCA()"
            ]
          },
          "execution_count": 39,
          "metadata": {},
          "output_type": "execute_result"
        }
      ],
      "source": [
        "pca = PCA()\n",
        "pca.fit(scaled)"
      ]
    },
    {
      "cell_type": "code",
      "execution_count": null,
      "metadata": {
        "id": "TDvJdOmTlgIF"
      },
      "outputs": [],
      "source": [
        "cumulative_variance = np.cumsum(pca.explained_variance_ratio_)"
      ]
    },
    {
      "cell_type": "code",
      "execution_count": null,
      "metadata": {
        "colab": {
          "base_uri": "https://localhost:8080/"
        },
        "id": "WGFYVetxuuAq",
        "outputId": "a26c1ce7-85d3-4bb4-f8c6-da9777f566da"
      },
      "outputs": [
        {
          "name": "stdout",
          "output_type": "stream",
          "text": [
            "1394 componentes capturam 95.05% da variância.\n"
          ]
        }
      ],
      "source": [
        "for n_components, explained_variance in enumerate(cumulative_variance, start=1):\n",
        "    if explained_variance >= 0.95:\n",
        "        print(f\"{n_components} componentes capturam {explained_variance:.2%} da variância.\")\n",
        "        break"
      ]
    },
    {
      "cell_type": "markdown",
      "metadata": {
        "id": "9BL-BgnT0aaL"
      },
      "source": [
        "#### Escolhendo o melhor Scaler"
      ]
    },
    {
      "cell_type": "code",
      "execution_count": null,
      "metadata": {
        "id": "k_KLzPM90moX"
      },
      "outputs": [],
      "source": [
        "X = pd.get_dummies(df.drop(columns='win'))\n",
        "y= df['win']"
      ]
    },
    {
      "cell_type": "code",
      "execution_count": null,
      "metadata": {
        "id": "lfrXVLt40lxX"
      },
      "outputs": [],
      "source": [
        "X_train, X_test, y_train, y_test = train_test_split(X, y, test_size=0.2, random_state=42)"
      ]
    },
    {
      "cell_type": "code",
      "execution_count": null,
      "metadata": {
        "id": "C9lAGsaWghAx"
      },
      "outputs": [],
      "source": [
        "model = GradientBoostingClassifier(\n",
        "  learning_rate= 0.21889128185193651,\n",
        "  max_depth= 5,\n",
        "  max_features= 1.0,\n",
        "  min_samples_leaf= 5,\n",
        "  min_samples_split= 18,\n",
        "  n_estimators= 130,\n",
        "  subsample= 0.766781014275285\n",
        ")"
      ]
    },
    {
      "cell_type": "code",
      "execution_count": null,
      "metadata": {
        "id": "k5LB5Hftu95Q"
      },
      "outputs": [],
      "source": [
        "scalers = {\n",
        "    'StandardScaler': StandardScaler(),\n",
        "    'MinMaxScaler': MinMaxScaler(),\n",
        "    'RobustScaler': RobustScaler()\n",
        "}"
      ]
    },
    {
      "cell_type": "code",
      "execution_count": null,
      "metadata": {
        "id": "UqCTjKe_0eF0"
      },
      "outputs": [],
      "source": [
        "results = {}\n",
        "for scaler_name, scaler in scalers.items():\n",
        "    pipeline = Pipeline([\n",
        "        ('scaler', scaler),\n",
        "        ('classifier', model)\n",
        "    ])\n",
        "\n",
        "    # Validar o desempenho usando validação cruzada\n",
        "    scores = cross_val_score(pipeline, X_train, y_train, cv=5, scoring='accuracy')\n",
        "    results[scaler_name] = scores.mean()\n"
      ]
    },
    {
      "cell_type": "code",
      "execution_count": null,
      "metadata": {
        "colab": {
          "base_uri": "https://localhost:8080/"
        },
        "id": "uCWOyNnE0tpp",
        "outputId": "2b92863a-98bc-44fc-9c6e-493d1e8a6eca"
      },
      "outputs": [
        {
          "name": "stdout",
          "output_type": "stream",
          "text": [
            "StandardScaler: 0.9760\n",
            "MinMaxScaler: 0.9761\n",
            "RobustScaler: 0.9761\n"
          ]
        }
      ],
      "source": [
        "for scaler_name, score in results.items():\n",
        "    print(f\"{scaler_name}: {score:.4f}\")"
      ]
    },
    {
      "cell_type": "markdown",
      "metadata": {
        "id": "zpnuynQMFMbn"
      },
      "source": [
        "#### Detecção e remoção de outliers e overfitting"
      ]
    },
    {
      "cell_type": "code",
      "execution_count": 5,
      "metadata": {
        "id": "DzbwvUEHHIzb"
      },
      "outputs": [],
      "source": [
        "X = pd.get_dummies(df.drop(columns='win'))\n",
        "y = df['win']"
      ]
    },
    {
      "cell_type": "code",
      "execution_count": null,
      "metadata": {
        "id": "P0KHXDN2FP-0"
      },
      "outputs": [],
      "source": [
        "model = GradientBoostingClassifier(\n",
        "  learning_rate= 0.21889128185193651,\n",
        "  max_depth= 5,\n",
        "  max_features= 1.0,\n",
        "  min_samples_leaf= 5,\n",
        "  min_samples_split= 18,\n",
        "  n_estimators= 130,\n",
        "  subsample= 0.766781014275285\n",
        ")"
      ]
    },
    {
      "cell_type": "code",
      "execution_count": null,
      "metadata": {
        "id": "ZaDcD3U2Hnv-"
      },
      "outputs": [],
      "source": [
        "train_sizes, train_scores, valid_scores = learning_curve(model, X, y, cv=5)"
      ]
    },
    {
      "cell_type": "code",
      "execution_count": null,
      "metadata": {
        "id": "UBoeFUgSGxq_"
      },
      "outputs": [],
      "source": [
        "train_scores_mean = train_scores.mean(axis=1)\n",
        "train_scores_std = train_scores.std(axis=1)\n",
        "valid_scores_mean = valid_scores.mean(axis=1)\n",
        "valid_scores_std = valid_scores.std(axis=1)"
      ]
    },
    {
      "cell_type": "code",
      "execution_count": null,
      "metadata": {
        "colab": {
          "base_uri": "https://localhost:8080/",
          "height": 472
        },
        "id": "0jBbUPzR57Gh",
        "outputId": "35162af2-70b0-4c6e-b4bd-d480ed16957b"
      },
      "outputs": [
        {
          "data": {
            "image/png": "[encoded data removed]",
            "text/plain": [
              "<Figure size 640x480 with 1 Axes>"
            ]
          },
          "metadata": {},
          "output_type": "display_data"
        }
      ],
      "source": [
        "plt.figure()\n",
        "plt.title('Curvas de Aprendizado')\n",
        "plt.xlabel('Tamanho do Treinamento')\n",
        "plt.ylabel('Pontuação')\n",
        "plt.fill_between(train_sizes, train_scores_mean - train_scores_std,\n",
        "                 train_scores_mean + train_scores_std, alpha=0.1,\n",
        "                 color='r')\n",
        "plt.fill_between(train_sizes, valid_scores_mean - valid_scores_std,\n",
        "                 valid_scores_mean + valid_scores_std, alpha=0.1,\n",
        "                 color='g')\n",
        "plt.plot(train_sizes, train_scores_mean, 'o-', color='r',\n",
        "         label='Pontuação de Treinamento')\n",
        "plt.plot(train_sizes, valid_scores_mean, 'o-', color='g',\n",
        "         label='Pontuação de Validação')\n",
        "\n",
        "plt.legend(loc='best')\n",
        "plt.show()"
      ]
    },
    {
      "cell_type": "markdown",
      "metadata": {
        "id": "twWI9YKP6quz"
      },
      "source": [
        "#### Não foi encontrado nenhuma ocorrência de overfitting no nosso modelo."
      ]
    },
    {
      "cell_type": "code",
      "execution_count": 6,
      "metadata": {
        "id": "AXOYECBt7v4Z"
      },
      "outputs": [],
      "source": [
        "X = sm.add_constant(X)"
      ]
    },
    {
      "cell_type": "code",
      "execution_count": 7,
      "metadata": {
        "id": "vuwDpIis77K1"
      },
      "outputs": [],
      "source": [
        "boolean_columns = X.select_dtypes(include='bool').columns\n",
        "X[boolean_columns] = X[boolean_columns].astype(int)"
      ]
    },
    {
      "cell_type": "code",
      "execution_count": 8,
      "metadata": {
        "id": "QEb_3np570ae"
      },
      "outputs": [],
      "source": [
        "modelo = sm.OLS(y, X).fit()"
      ]
    },
    {
      "cell_type": "code",
      "execution_count": 9,
      "metadata": {
        "colab": {
          "base_uri": "https://localhost:8080/"
        },
        "id": "rj7nx7pH72Rn",
        "outputId": "ebf53b69-6536-434b-eaf5-f99072414ce1"
      },
      "outputs": [
        {
          "name": "stderr",
          "output_type": "stream",
          "text": [
            "c:\\Users\\shady\\AppData\\Local\\Programs\\Python\\Python312\\Lib\\site-packages\\statsmodels\\stats\\outliers_influence.py:847: RuntimeWarning: invalid value encountered in sqrt\n",
            "  return self.resid / sigma / np.sqrt(1 - hii)\n"
          ]
        },
        {
          "ename": "MemoryError",
          "evalue": "Unable to allocate 2.11 GiB for an array with shape (1592, 177967) and data type float64",
          "output_type": "error",
          "traceback": [
            "\u001b[1;31m---------------------------------------------------------------------------\u001b[0m",
            "\u001b[1;31mMemoryError\u001b[0m                               Traceback (most recent call last)",
            "Cell \u001b[1;32mIn[9], line 3\u001b[0m\n\u001b[0;32m      1\u001b[0m residuos \u001b[38;5;241m=\u001b[39m modelo\u001b[38;5;241m.\u001b[39mresid\n\u001b[0;32m      2\u001b[0m residuos_padronizados \u001b[38;5;241m=\u001b[39m modelo\u001b[38;5;241m.\u001b[39mget_influence()\u001b[38;5;241m.\u001b[39mresid_studentized_internal\n\u001b[1;32m----> 3\u001b[0m residuos_studentizados \u001b[38;5;241m=\u001b[39m \u001b[43mmodelo\u001b[49m\u001b[38;5;241;43m.\u001b[39;49m\u001b[43mget_influence\u001b[49m\u001b[43m(\u001b[49m\u001b[43m)\u001b[49m\u001b[38;5;241;43m.\u001b[39;49m\u001b[43mresid_studentized_external\u001b[49m\n",
            "File \u001b[1;32mproperties.pyx:36\u001b[0m, in \u001b[0;36mpandas._libs.properties.CachedProperty.__get__\u001b[1;34m()\u001b[0m\n",
            "File \u001b[1;32mc:\\Users\\shady\\AppData\\Local\\Programs\\Python\\Python312\\Lib\\site-packages\\statsmodels\\stats\\outliers_influence.py:814\u001b[0m, in \u001b[0;36mOLSInfluence.resid_studentized_external\u001b[1;34m(self)\u001b[0m\n\u001b[0;32m    806\u001b[0m \u001b[38;5;129m@cache_readonly\u001b[39m\n\u001b[0;32m    807\u001b[0m \u001b[38;5;28;01mdef\u001b[39;00m \u001b[38;5;21mresid_studentized_external\u001b[39m(\u001b[38;5;28mself\u001b[39m):\n\u001b[0;32m    808\u001b[0m \u001b[38;5;250m    \u001b[39m\u001b[38;5;124;03m\"\"\"Studentized residuals using LOOO variance\u001b[39;00m\n\u001b[0;32m    809\u001b[0m \n\u001b[0;32m    810\u001b[0m \u001b[38;5;124;03m    this uses sigma from leave-one-out estimates\u001b[39;00m\n\u001b[0;32m    811\u001b[0m \n\u001b[0;32m    812\u001b[0m \u001b[38;5;124;03m    requires leave one out loop for observations\u001b[39;00m\n\u001b[0;32m    813\u001b[0m \u001b[38;5;124;03m    \"\"\"\u001b[39;00m\n\u001b[1;32m--> 814\u001b[0m     sigma_looo \u001b[38;5;241m=\u001b[39m np\u001b[38;5;241m.\u001b[39msqrt(\u001b[38;5;28;43mself\u001b[39;49m\u001b[38;5;241;43m.\u001b[39;49m\u001b[43msigma2_not_obsi\u001b[49m)\n\u001b[0;32m    815\u001b[0m     \u001b[38;5;28;01mreturn\u001b[39;00m \u001b[38;5;28mself\u001b[39m\u001b[38;5;241m.\u001b[39mget_resid_studentized_external(sigma\u001b[38;5;241m=\u001b[39msigma_looo)\n",
            "File \u001b[1;32mproperties.pyx:36\u001b[0m, in \u001b[0;36mpandas._libs.properties.CachedProperty.__get__\u001b[1;34m()\u001b[0m\n",
            "File \u001b[1;32mc:\\Users\\shady\\AppData\\Local\\Programs\\Python\\Python312\\Lib\\site-packages\\statsmodels\\stats\\outliers_influence.py:949\u001b[0m, in \u001b[0;36mOLSInfluence.sigma2_not_obsi\u001b[1;34m(self)\u001b[0m\n\u001b[0;32m    941\u001b[0m \u001b[38;5;129m@cache_readonly\u001b[39m\n\u001b[0;32m    942\u001b[0m \u001b[38;5;28;01mdef\u001b[39;00m \u001b[38;5;21msigma2_not_obsi\u001b[39m(\u001b[38;5;28mself\u001b[39m):\n\u001b[0;32m    943\u001b[0m \u001b[38;5;250m    \u001b[39m\u001b[38;5;124;03m\"\"\"error variance for all LOOO regressions\u001b[39;00m\n\u001b[0;32m    944\u001b[0m \n\u001b[0;32m    945\u001b[0m \u001b[38;5;124;03m    This is 'mse_resid' from each auxiliary regression.\u001b[39;00m\n\u001b[0;32m    946\u001b[0m \n\u001b[0;32m    947\u001b[0m \u001b[38;5;124;03m    uses results from leave-one-observation-out loop\u001b[39;00m\n\u001b[0;32m    948\u001b[0m \u001b[38;5;124;03m    \"\"\"\u001b[39;00m\n\u001b[1;32m--> 949\u001b[0m     \u001b[38;5;28;01mreturn\u001b[39;00m np\u001b[38;5;241m.\u001b[39masarray(\u001b[38;5;28;43mself\u001b[39;49m\u001b[38;5;241;43m.\u001b[39;49m\u001b[43m_res_looo\u001b[49m[\u001b[38;5;124m'\u001b[39m\u001b[38;5;124mmse_resid\u001b[39m\u001b[38;5;124m'\u001b[39m])\n",
            "File \u001b[1;32mproperties.pyx:36\u001b[0m, in \u001b[0;36mpandas._libs.properties.CachedProperty.__get__\u001b[1;34m()\u001b[0m\n",
            "File \u001b[1;32mc:\\Users\\shady\\AppData\\Local\\Programs\\Python\\Python312\\Lib\\site-packages\\statsmodels\\stats\\outliers_influence.py:1109\u001b[0m, in \u001b[0;36mOLSInfluence._res_looo\u001b[1;34m(self)\u001b[0m\n\u001b[0;32m   1107\u001b[0m cv_iter \u001b[38;5;241m=\u001b[39m LeaveOneOut(\u001b[38;5;28mself\u001b[39m\u001b[38;5;241m.\u001b[39mnobs)\n\u001b[0;32m   1108\u001b[0m \u001b[38;5;28;01mfor\u001b[39;00m inidx, outidx \u001b[38;5;129;01min\u001b[39;00m cv_iter:\n\u001b[1;32m-> 1109\u001b[0m     res_i \u001b[38;5;241m=\u001b[39m \u001b[38;5;28;43mself\u001b[39;49m\u001b[38;5;241;43m.\u001b[39;49m\u001b[43mmodel_class\u001b[49m\u001b[43m(\u001b[49m\u001b[43mendog\u001b[49m\u001b[43m[\u001b[49m\u001b[43minidx\u001b[49m\u001b[43m]\u001b[49m\u001b[43m,\u001b[49m\u001b[43m \u001b[49m\u001b[43mexog\u001b[49m\u001b[43m[\u001b[49m\u001b[43minidx\u001b[49m\u001b[43m]\u001b[49m\u001b[43m)\u001b[49m\u001b[38;5;241;43m.\u001b[39;49m\u001b[43mfit\u001b[49m\u001b[43m(\u001b[49m\u001b[43m)\u001b[49m\n\u001b[0;32m   1110\u001b[0m     params[outidx] \u001b[38;5;241m=\u001b[39m res_i\u001b[38;5;241m.\u001b[39mparams\n\u001b[0;32m   1111\u001b[0m     mse_resid[outidx] \u001b[38;5;241m=\u001b[39m res_i\u001b[38;5;241m.\u001b[39mmse_resid\n",
            "File \u001b[1;32mc:\\Users\\shady\\AppData\\Local\\Programs\\Python\\Python312\\Lib\\site-packages\\statsmodels\\regression\\linear_model.py:336\u001b[0m, in \u001b[0;36mRegressionModel.fit\u001b[1;34m(self, method, cov_type, cov_kwds, use_t, **kwargs)\u001b[0m\n\u001b[0;32m    331\u001b[0m \u001b[38;5;28;01mif\u001b[39;00m method \u001b[38;5;241m==\u001b[39m \u001b[38;5;124m\"\u001b[39m\u001b[38;5;124mpinv\u001b[39m\u001b[38;5;124m\"\u001b[39m:\n\u001b[0;32m    332\u001b[0m     \u001b[38;5;28;01mif\u001b[39;00m \u001b[38;5;129;01mnot\u001b[39;00m (\u001b[38;5;28mhasattr\u001b[39m(\u001b[38;5;28mself\u001b[39m, \u001b[38;5;124m'\u001b[39m\u001b[38;5;124mpinv_wexog\u001b[39m\u001b[38;5;124m'\u001b[39m) \u001b[38;5;129;01mand\u001b[39;00m\n\u001b[0;32m    333\u001b[0m             \u001b[38;5;28mhasattr\u001b[39m(\u001b[38;5;28mself\u001b[39m, \u001b[38;5;124m'\u001b[39m\u001b[38;5;124mnormalized_cov_params\u001b[39m\u001b[38;5;124m'\u001b[39m) \u001b[38;5;129;01mand\u001b[39;00m\n\u001b[0;32m    334\u001b[0m             \u001b[38;5;28mhasattr\u001b[39m(\u001b[38;5;28mself\u001b[39m, \u001b[38;5;124m'\u001b[39m\u001b[38;5;124mrank\u001b[39m\u001b[38;5;124m'\u001b[39m)):\n\u001b[1;32m--> 336\u001b[0m         \u001b[38;5;28mself\u001b[39m\u001b[38;5;241m.\u001b[39mpinv_wexog, singular_values \u001b[38;5;241m=\u001b[39m \u001b[43mpinv_extended\u001b[49m\u001b[43m(\u001b[49m\u001b[38;5;28;43mself\u001b[39;49m\u001b[38;5;241;43m.\u001b[39;49m\u001b[43mwexog\u001b[49m\u001b[43m)\u001b[49m\n\u001b[0;32m    337\u001b[0m         \u001b[38;5;28mself\u001b[39m\u001b[38;5;241m.\u001b[39mnormalized_cov_params \u001b[38;5;241m=\u001b[39m np\u001b[38;5;241m.\u001b[39mdot(\n\u001b[0;32m    338\u001b[0m             \u001b[38;5;28mself\u001b[39m\u001b[38;5;241m.\u001b[39mpinv_wexog, np\u001b[38;5;241m.\u001b[39mtranspose(\u001b[38;5;28mself\u001b[39m\u001b[38;5;241m.\u001b[39mpinv_wexog))\n\u001b[0;32m    340\u001b[0m         \u001b[38;5;66;03m# Cache these singular values for use later.\u001b[39;00m\n",
            "File \u001b[1;32mc:\\Users\\shady\\AppData\\Local\\Programs\\Python\\Python312\\Lib\\site-packages\\statsmodels\\tools\\tools.py:274\u001b[0m, in \u001b[0;36mpinv_extended\u001b[1;34m(x, rcond)\u001b[0m\n\u001b[0;32m    272\u001b[0m     \u001b[38;5;28;01melse\u001b[39;00m:\n\u001b[0;32m    273\u001b[0m         s[i] \u001b[38;5;241m=\u001b[39m \u001b[38;5;241m0.\u001b[39m\n\u001b[1;32m--> 274\u001b[0m res \u001b[38;5;241m=\u001b[39m \u001b[43mnp\u001b[49m\u001b[38;5;241;43m.\u001b[39;49m\u001b[43mdot\u001b[49m\u001b[43m(\u001b[49m\u001b[43mnp\u001b[49m\u001b[38;5;241;43m.\u001b[39;49m\u001b[43mtranspose\u001b[49m\u001b[43m(\u001b[49m\u001b[43mvt\u001b[49m\u001b[43m)\u001b[49m\u001b[43m,\u001b[49m\u001b[43m \u001b[49m\u001b[43mnp\u001b[49m\u001b[38;5;241;43m.\u001b[39;49m\u001b[43mmultiply\u001b[49m\u001b[43m(\u001b[49m\u001b[43ms\u001b[49m\u001b[43m[\u001b[49m\u001b[43m:\u001b[49m\u001b[43m,\u001b[49m\u001b[43m \u001b[49m\u001b[43mnp\u001b[49m\u001b[38;5;241;43m.\u001b[39;49m\u001b[43mnewaxis\u001b[49m\u001b[43m]\u001b[49m\u001b[43m,\u001b[49m\n\u001b[0;32m    275\u001b[0m \u001b[43m                                           \u001b[49m\u001b[43mnp\u001b[49m\u001b[38;5;241;43m.\u001b[39;49m\u001b[43mtranspose\u001b[49m\u001b[43m(\u001b[49m\u001b[43mu\u001b[49m\u001b[43m)\u001b[49m\u001b[43m)\u001b[49m\u001b[43m)\u001b[49m\n\u001b[0;32m    276\u001b[0m \u001b[38;5;28;01mreturn\u001b[39;00m res, s_orig\n",
            "\u001b[1;31mMemoryError\u001b[0m: Unable to allocate 2.11 GiB for an array with shape (1592, 177967) and data type float64"
          ]
        }
      ],
      "source": [
        "residuos = modelo.resid\n",
        "residuos_padronizados = modelo.get_influence().resid_studentized_internal\n",
        "residuos_studentizados = modelo.get_influence().resid_studentized_external"
      ]
    },
    {
      "cell_type": "code",
      "execution_count": null,
      "metadata": {
        "id": "nrtdQG_v73_6"
      },
      "outputs": [],
      "source": [
        "distancia_cook = modelo.get_influence().cooks_distance[0]\n",
        "leverage = modelo.get_influence().hat_matrix_diag"
      ]
    },
    {
      "cell_type": "code",
      "execution_count": null,
      "metadata": {
        "id": "NQkjwQXszBgA"
      },
      "outputs": [],
      "source": [
        "plt.figure(figsize=(10, 6))\n",
        "plt.scatter(modelo.fittedvalues, residuos)\n",
        "plt.axhline(y=0, color='r', linestyle='--')\n",
        "plt.xlabel('Valores Ajustados')\n",
        "plt.ylabel('Resíduos')\n",
        "plt.title('Gráfico de Resíduos vs. Valores Ajustados')\n",
        "plt.show()"
      ]
    },
    {
      "cell_type": "code",
      "execution_count": null,
      "metadata": {
        "id": "0Okxz0rYzCTb"
      },
      "outputs": [],
      "source": [
        "sm.qqplot(residuos, line ='45')\n",
        "plt.show()"
      ]
    },
    {
      "cell_type": "code",
      "execution_count": null,
      "metadata": {
        "id": "rJBLKvMCzD_K"
      },
      "outputs": [],
      "source": [
        "plt.figure(figsize=(10, 6))\n",
        "plt.stem(np.arange(len(distancia_cook)), distancia_cook, markerfmt=\",\")\n",
        "plt.xlabel('Índice')\n",
        "plt.ylabel('Distância de Cook')\n",
        "plt.title('Distância de Cook para cada observação')\n",
        "plt.show()"
      ]
    },
    {
      "cell_type": "code",
      "execution_count": null,
      "metadata": {
        "id": "fS0_eoZdzGRs"
      },
      "outputs": [],
      "source": [
        "outliers = np.where((np.abs(residuos_studentizados) > 3) | (distancia_cook > 1) | (leverage > 2*(len(X.columns)/len(y))))\n",
        "print(\"Outliers detectados nos índices:\", outliers)"
      ]
    },
    {
      "cell_type": "markdown",
      "metadata": {
        "id": "GKgT5Ef4jpRm"
      },
      "source": [
        "#### Escolhemos qual modelo e scaler utilizar e os melhores hiperparâmetros, agora iremos montar nosso Pipeline"
      ]
    },
    {
      "cell_type": "code",
      "execution_count": 10,
      "metadata": {
        "colab": {
          "base_uri": "https://localhost:8080/",
          "height": 211
        },
        "id": "Z0FIncMl5n9M",
        "outputId": "125668f1-c81d-455b-8364-4be5267f2d2e"
      },
      "outputs": [],
      "source": [
        "class DenseTransformer(TransformerMixin, BaseEstimator):\n",
        "    def fit(self, X, y=None, **fit_params):\n",
        "        return self\n",
        "\n",
        "    def transform(self, X, y=None, **fit_params):\n",
        "        return X.toarray()"
      ]
    },
    {
      "cell_type": "code",
      "execution_count": 13,
      "metadata": {
        "id": "HCmCbTCdj1K8"
      },
      "outputs": [],
      "source": [
        "df = pd.read_excel(\"content/MATCHS.xlsx\")"
      ]
    },
    {
      "cell_type": "code",
      "execution_count": 14,
      "metadata": {
        "id": "laV57q0Bz21J"
      },
      "outputs": [],
      "source": [
        "X = df.drop(columns='win')\n",
        "y = df['win']"
      ]
    },
    {
      "cell_type": "code",
      "execution_count": 15,
      "metadata": {
        "id": "QkrM3EWl0PoU"
      },
      "outputs": [],
      "source": [
        "numeric_features = X.select_dtypes(include=['int64', 'float64']).columns\n",
        "categorical_features = X.select_dtypes(include=['object', 'category']).columns"
      ]
    },
    {
      "cell_type": "code",
      "execution_count": 16,
      "metadata": {
        "id": "V557OWQR01Lw"
      },
      "outputs": [],
      "source": [
        "X_train, X_test, y_train, y_test = train_test_split(X, y, test_size=0.3, random_state=42)"
      ]
    },
    {
      "cell_type": "code",
      "execution_count": 17,
      "metadata": {
        "id": "35_gjO6A1Asr"
      },
      "outputs": [],
      "source": [
        "numeric_transformer = Pipeline(steps=[\n",
        "    ('scaler', StandardScaler())\n",
        "])\n",
        "\n",
        "categorical_transformer = Pipeline(steps=[\n",
        "    ('onehot', OneHotEncoder(handle_unknown='ignore'))\n",
        "])"
      ]
    },
    {
      "cell_type": "code",
      "execution_count": 18,
      "metadata": {
        "id": "C5tR5p971ODq"
      },
      "outputs": [],
      "source": [
        "preprocessor = ColumnTransformer(\n",
        "    transformers=[\n",
        "        ('num', numeric_transformer, numeric_features),\n",
        "        ('cat', categorical_transformer, categorical_features)\n",
        "    ])\n"
      ]
    },
    {
      "cell_type": "code",
      "execution_count": 19,
      "metadata": {
        "colab": {
          "base_uri": "https://localhost:8080/",
          "height": 211
        },
        "id": "6jnZFgzL1OYZ",
        "outputId": "991f77b5-7dcd-4d2a-bfa9-00747a6044ed"
      },
      "outputs": [],
      "source": [
        "pipeline = Pipeline(steps=[\n",
        "    ('preprocessor', preprocessor),\n",
        "    ('to_dense', DenseTransformer()),\n",
        "    ('pca', PCA(n_components=1394)),\n",
        "    ('classifier', GradientBoostingClassifier(\n",
        "        learning_rate= 0.21889128185193651,\n",
        "        max_depth= 5,\n",
        "        max_features= 1.0,\n",
        "        min_samples_leaf= 5,\n",
        "        min_samples_split= 18,\n",
        "        n_estimators= 130,\n",
        "        subsample= 0.766781014275285\n",
        "    )\n",
        "  )\n",
        "])"
      ]
    },
    {
      "cell_type": "code",
      "execution_count": 20,
      "metadata": {
        "id": "FmV4BEQ-1Rta"
      },
      "outputs": [],
      "source": [
        "pipeline.fit(X_train, y_train)"
      ]
    },
    {
      "cell_type": "code",
      "execution_count": null,
      "metadata": {
        "id": "VDlpmhJ44hkd"
      },
      "outputs": [],
      "source": [
        "y_pred = pipeline.predict(X_test)"
      ]
    },
    {
      "cell_type": "code",
      "execution_count": null,
      "metadata": {
        "id": "wgUWDOnl1VHo"
      },
      "outputs": [],
      "source": [
        "accuracy = accuracy_score(y_test, y_pred)\n",
        "report = classification_report(y_test, y_pred)"
      ]
    },
    {
      "cell_type": "code",
      "execution_count": null,
      "metadata": {
        "id": "00mtxHm-1Ygf"
      },
      "outputs": [],
      "source": [
        "report"
      ]
    },
    {
      "cell_type": "code",
      "execution_count": null,
      "metadata": {},
      "outputs": [],
      "source": [
        "accuracy"
      ]
    },
    {
      "cell_type": "code",
      "execution_count": null,
      "metadata": {},
      "outputs": [],
      "source": []
    }
  ],
  "metadata": {
    "colab": {
      "provenance": []
    },
    "kernelspec": {
      "display_name": "Python 3",
      "name": "python3"
    },
    "language_info": {
      "codemirror_mode": {
        "name": "ipython",
        "version": 3
      },
      "file_extension": ".py",
      "mimetype": "text/x-python",
      "name": "python",
      "nbconvert_exporter": "python",
      "pygments_lexer": "ipython3",
      "version": "3.12.1"
    }
  },
  "nbformat": 4,
  "nbformat_minor": 0
}
