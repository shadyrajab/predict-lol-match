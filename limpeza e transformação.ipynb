{
  "cells": [
    {
      "cell_type": "markdown",
      "metadata": {
        "id": "LxvQ2LYFNVTn"
      },
      "source": [
        "# Limpeza e transformação dos dados\n",
        "\n",
        "Agora que temos coletamos todos os dados necessários para fazer nossas análises e modelos, vamo fazer uma tratativa em nossos DataFrames. Iremos interpretar cada coluna e unificar através de soma aquelas colunas que fazem parte de uma certa categoria, ficará mais fácil de entender daqui pra frente. Também iremos fazer novas requisições na API da Riot para transformar ID's de itens em seus respectivos nomes..."
      ]
    },
    {
      "cell_type": "code",
      "execution_count": 1,
      "metadata": {
        "id": "utlVXYZxJROs"
      },
      "outputs": [],
      "source": [
        "import pandas as pd\n",
        "import requests"
      ]
    },
    {
      "cell_type": "code",
      "execution_count": 8,
      "metadata": {
        "id": "fl91VHD-JROt"
      },
      "outputs": [],
      "source": [
        "tops = pd.read_excel(\"original/TOP.xlsx\")\n",
        "jgs = pd.read_excel(\"original/JUNGLE.xlsx\")\n",
        "mids = pd.read_excel(\"original/MIDDLE.xlsx\")\n",
        "adcs = pd.read_excel(\"original/BOTTOM.xlsx\")\n",
        "sups = pd.read_excel(\"original/UTILITY.xlsx\")"
      ]
    },
    {
      "cell_type": "markdown",
      "metadata": {
        "id": "zg4S6rJBJROu"
      },
      "source": [
        "# Agrupando colunas.\n",
        "\n",
        "### Agrupando colunas de pings:\n",
        "- O tipo de ping não é um dado tão relevante assim, até porque o nível de agressividade ou passividade de um time ou jogador pode ser analisado através da quantidade de abates/ mortes e dano causado/sofrido.\n",
        "Então iremos criar uma única coluna chamada **allPings** que será o agrupamento entre todas as colunas de Pings.\n",
        "\n",
        "### Agrupando abates e assistências:\n",
        "- Iremos unificar as colunas **assists** e **kills** e chamá-la de **participations**. Uma assistência é quando um jogador ajuda à matar um jogador inimigo, kills é auto-explicativo. Ambos tem o mesmo efeito prático na partida.\n",
        "\n",
        "### Agrupando colunas de farm:\n",
        "- Também iremos unificar as colunas **totalMinionsKilled, totalEnemyJungleMinionsKilled, totalAllyJungleMinionsKilled, neutralMinionsKilled** na coluna **totalFarm**. O farm é uma das formas de conquistar ouro dentro da partida, e você pode farmar minions e monstros da selva.\n"
      ]
    },
    {
      "cell_type": "code",
      "execution_count": 11,
      "metadata": {
        "id": "WUdGrLdKJROv"
      },
      "outputs": [],
      "source": [
        "def remove_ping_columns(dataframe: pd.DataFrame):\n",
        "  \"\"\"Remove todas as colunas de tipos de ping e cria uma única coluna\n",
        "    única com a soma de todos os pings da partida.\"\"\"\n",
        "  ping_columns = []\n",
        "  for column in dataframe.columns:\n",
        "    if 'Pings' in str(column):\n",
        "      ping_columns.append(column)\n",
        "\n",
        "  dataframe['allPings'] = dataframe[ping_columns].sum(axis=1)\n",
        "  dataframe.drop(columns=ping_columns, inplace=True)"
      ]
    },
    {
      "cell_type": "code",
      "execution_count": 12,
      "metadata": {
        "id": "DG2W3aWXPCMb"
      },
      "outputs": [],
      "source": [
        "def sum_kills_and_assists(dataframe: pd.DataFrame):\n",
        "  \"\"\"Soma os abates e assistências do jogador em uma única coluna ``participations``\"\"\"\n",
        "  dataframe['participations'] = dataframe['kills'] + dataframe['assists']"
      ]
    },
    {
      "cell_type": "code",
      "execution_count": 13,
      "metadata": {
        "id": "zuObFka_J6ij"
      },
      "outputs": [],
      "source": [
        "def sum_minions_and_jungle_minions_killed(dataframe: pd.DataFrame):\n",
        "  \"\"\"Soma todos os monstros pequenos em uma única coluna ``totalFarm``\"\"\"\n",
        "  farm_columns = []\n",
        "  for column in dataframe.columns:\n",
        "    if 'MinionsKilled' in str(column):\n",
        "      farm_columns.append(column)\n",
        "\n",
        "  dataframe['totalFarm'] = dataframe[farm_columns].sum(axis=1)\n",
        "  dataframe.drop(columns=farm_columns, inplace=True)"
      ]
    },
    {
      "cell_type": "markdown",
      "metadata": {
        "id": "YTCpPHRJOg_S"
      },
      "source": [
        "# Removendo colunas.\n",
        "\n",
        "- O DataFrame possui uma coluna para ouro ganho e ouro gasto. Separar os dados dessa forma é irrelevante, iremos considerar apenas o ouro gasto na partida, pois o ouro ganho só tem efeito prático quando é gasto com itens. Iremos deletar a coluna **goldEarned**\n",
        "\n",
        "- Iremos remover partidas que tenham acabado em rendição logo no início da partida. Esses dados são inúteis. A coluna que indica uma rendição rápida é **gameEndedInEarlySurrender**. Também iremos deletar **gameEndedInSurrender**.\n",
        "\n",
        "- Nós já temos o nome do campeão que o jogador pickou e o seu level total, então iremos desconsiderar as colunas **championId** e **champExperience**.\n",
        "\n",
        "- Também iremos deletar todas as colunas que indiquem abates múltiplos, como double-kills, triple-kills... Nós já teremos esses números na coluna **participations**. As colunas **doubleKills**, **tripleKills**, **quadraKills**, **pentaKills** **largestMultiKill**, **largestKillingSpree**, **killingSprees** serão deletadas.\n",
        "\n",
        "- Não precisamos de informações pessoais dos jogadores. As colunas **summonerName, summonerLevel, summonerId, riotIdTagline riotIdGameName, puuid, profileIcon, participantId, eligibleForProgression** serão todas removidas\n",
        "\n",
        "- Iremos considerar apenas o score de visão e remover as colunas **visionWardsBoughtInGame, wardsKilled, wardsPlaced, sightWardsBoughtInGame, detectorWardsPlaced**\n",
        "\n",
        "- Vamos remover a coluna **itemsPurchased** e utilizar apenas **consumablesPurchased** para ver se a compra excessiva de poções influencia no desempenho de um jogador(tenho a intuição de que sim)\n",
        "\n",
        "- Iremos remover as colunas **damageDealtToBuildings** e **damageDealtToTurrets**, a coluna **damageDealtToObjectives** é a soma dessas outras duas, é o suficiente pra nossa análise.\n",
        "\n",
        "- As colunas **nexusKills**, **nexusLost** e **nexusTakedowns** tem uma correlação perfeita com a vitória(basicamente se você destrói o nexus você ganha a partida). Iremos deletá-las.\n",
        "\n",
        "- Iremos deletar a coluna **firstBloodKill** e considerar apenas **firstBloodAssist**, é o suficiente pra saber se um time começou com a primeira kill do jogo ou não.\n",
        "\n",
        "- Iremos remover colunas isoladas com significado irrelevante ou duplicado, como **championTransform, largestCriticalStrike, lane, role, inhibitorKills, physicalDamageDealt, physicalDamageTaken, firstTowerKill,\n",
        "magicDamageDealt, magicDamageTaken, teamEarlySurrendered, totalDamageDealt, trueDamageDealt,\n",
        "trueDamageTaken, firstTowerKill, objectivesStolen, turretKills, teamPosition, totalDamageShieldedOnTeammates, totalTimeCCDealt, totalUnitsHealed**\n",
        "\n",
        "- Por último, iremos remover colunas que possuem sempre um valor único"
      ]
    },
    {
      "cell_type": "code",
      "execution_count": 14,
      "metadata": {
        "id": "ndWm1wllJROw"
      },
      "outputs": [],
      "source": [
        "def remove_columns_with_unique_values(dataframe: pd.DataFrame):\n",
        "  \"\"\"Remove todas as colunas do dataframe que possuem valores unique\"\"\"\n",
        "  for colum in dataframe.columns:\n",
        "      if dataframe[colum].nunique() == 1:\n",
        "          dataframe.drop(colum, axis=1, inplace=True)"
      ]
    },
    {
      "cell_type": "code",
      "execution_count": 15,
      "metadata": {
        "id": "Foo6VaUNJdMc"
      },
      "outputs": [],
      "source": [
        "def remove_games_that_ended_in_early_surrender(dataframe: pd.DataFrame):\n",
        "  \"\"\"Remove todas as partidas que terminaram em remake\"\"\"\n",
        "  dataframe.drop(dataframe[dataframe[\"gameEndedInEarlySurrender\"]].index, inplace=True)"
      ]
    },
    {
      "cell_type": "code",
      "execution_count": 16,
      "metadata": {
        "id": "1ljv6lboKw4L"
      },
      "outputs": [],
      "source": [
        "def delete_generic_columns(dataframe: pd.DataFrame):\n",
        "  \"\"\"Deleta todas as colunas genéricas e irrelevantes do dataframe\"\"\"\n",
        "  columns_to_delete = [\n",
        "    \"goldEarned\", \"championId\", \"champExperience\", \"doubleKills\", \"tripleKills\", \"quadraKills\",\n",
        "    \"pentaKills\", \"largestMultiKill\", \"largestKillingSpree\", \"killingSprees\", \"summonerName\",\n",
        "    \"summonerLevel\", \"summonerId\", \"riotIdTagline\", \"riotIdGameName\", \"puuid\", \"profileIcon\",\n",
        "    \"participantId\", \"eligibleForProgression\", \"visionWardsBoughtInGame\", \"wardsKilled\",\n",
        "    \"wardsPlaced\", \"gameEndedInEarlySurrender\", \"assists\", \"kills\", \"gameEndedInSurrender\",\n",
        "    \"detectorWardsPlaced\", \"championTransform\", \"itemsPurchased\", \"inhibitorKills\",\n",
        "    \"damageDealtToBuildings\", \"damageDealtToTurrets\", \"largestCriticalStrike\", \"lane\",\n",
        "    \"role\", \"nexusLost\", \"nexusKills\", \"nexusTakedowns\", \"firstBloodKill\",\n",
        "    \"physicalDamageDealt\", \"physicalDamageTaken\", \"firstTowerKill\", \"magicDamageDealt\",\n",
        "    \"magicDamageTaken\", \"teamEarlySurrendered\", \"totalDamageDealt\", \"trueDamageDealt\",\n",
        "    \"trueDamageTaken\", \"objectivesStolen\", \"turretKills\",\n",
        "    \"totalDamageShieldedOnTeammates\", \"totalTimeCCDealt\", \"totalUnitsHealed\"\n",
        "  ]\n",
        "  dataframe.drop(columns=columns_to_delete, inplace=True)"
      ]
    },
    {
      "cell_type": "markdown",
      "metadata": {
        "id": "uVm1mFPGREUq"
      },
      "source": [
        "# Transformando colunas\n",
        "\n",
        "- A riot nos disponibiliza o ID dos itens e não o seu nome. Iremos fazer uma requisição para o datadragon da Riot e puxar o nome dos itens pelo seu ID\n",
        "\n",
        "- Eu não encontrei uma rota que disponibilizasse o ID dos feitiços de invocador, mas como são poucos, eu defini um dicionário com cada spell."
      ]
    },
    {
      "cell_type": "code",
      "execution_count": 17,
      "metadata": {
        "id": "7SJQg_SQL9mB"
      },
      "outputs": [],
      "source": [
        "def get_item_name_by_id(dataframe: pd.DataFrame):\n",
        "  itens = \"https://ddragon.leagueoflegends.com/cdn/14.11.1/data/pt_BR/item.json\"\n",
        "  response = requests.get(itens).json()['data']\n",
        "\n",
        "  for item in [\"item0\", \"item1\", \"item2\", \"item3\", \"item4\", \"item5\", \"item6\"]:\n",
        "    dataframe[item] = dataframe[item].apply(lambda s: response.get(str(s), {}).get('name', \"No Item\"))"
      ]
    },
    {
      "cell_type": "code",
      "execution_count": 18,
      "metadata": {
        "id": "QV-TZiadMH3q"
      },
      "outputs": [],
      "source": [
        "def get_spell_name_by_id(dataframe: pd.DataFrame):\n",
        "  spells = {\"4\": 'Flash', \"12\": 'Teleport', \"14\": 'Ignite', \"11\": 'Smite', \"7\": 'Heal', \"6\": 'Haste', \"3\": 'Exhaust', \"1\": 'Cleanse', \"21\": 'Barrier'}\n",
        "  for spell in [\"summoner1Id\", \"summoner2Id\"]:\n",
        "    dataframe[spell] = dataframe[spell].apply(lambda x: spells.get(str(x)), None)"
      ]
    },
    {
      "cell_type": "markdown",
      "metadata": {
        "id": "Lq_VvxX-LbOD"
      },
      "source": [
        "# Finalizando a limpeza de dados.\n",
        "\n",
        "Com todas as limpezas que fizemos, conseguimos reduzir a quantidade de colunas do nosso DataFrame de 127 para 50... Agora nós temos uma base de dados com a seguinte estrutura:\n",
        "\n",
        "| Nome da Variável | Tipo | Descrição\n",
        "|------------------|------|----------|\n",
        "| baronKills       | int  | Quantidade de barões de nashor feitos |\n",
        "| bountyLevel      | int  | O nível de recompensa do jogador(quantidade de ouro que ele está valendo) |\n",
        "| champLevel       | int  | O nível do campeão |\n",
        "| championName     | str  | O nome do campeão  |\n",
        "| consumablesPurchased | int | A quantidade de itens consumíveis comprados |\n",
        "| damageDealtToObjectives | int | O total de dano dado em objetivos |\n",
        "| damageSelfMitigated | int | O total de dano auto-mitigado de inimigos |\n",
        "| dragonKills | int | Quantidade de dragões feitos |\n",
        "| firstBloodAssist | bool | Se o jogador teve participação na primeira kill do jogo |\n",
        "| firstTowerAssist | bool | Se o jogador teve participação na primeira torre derrubada no jogo |\n",
        "| goldSpent | int | Total de ouro gasto durante a partida\n",
        "| individualPosition | str | A posição na qual o jogador jogou |\n",
        "| inhibitorTakedowns | int | Quantidade de inibidores derrubados |\n",
        "| inhibitorsLost | int | Quantidade de inibidores perdidos |\n",
        "| item0 | str | Nome do Item 0 |\n",
        "| item1 | str | Nome do Item 1 |\n",
        "| item2 | str | Nome do Item 2 |\n",
        "| item3 | str | Nome do Item 3 |\n",
        "| item4 | str | Nome do Item 4 |\n",
        "| item5 | str | Nome do Item 5 |\n",
        "| item6 | str | Nome do Item 6 |\n",
        "| longestTimeSpentLiving | int | Maior quantidade de tempo sem morrer |\n",
        "| magicDamageDealtToChampions | int | Total de dano mágico causado |\n",
        "| objectivesStolenAssists | int | Quantidade de participações em objetivos roubados |\n",
        "| physicalDamageDealtToChampions | int | Dano físico causado em outros jogadores |\n",
        "| spell1Casts | int | Quantidade que a skill \"Q\" foi utilizada |\n",
        "| spell2Casts | int | Quantidade que a skill \"W\" foi utilizada |\n",
        "| spell3Casts | int | Quantidade que a skill \"E\" foi utilizada |\n",
        "| spell4Casts | int | Quantidade que a skill \"R\" foi utilizada |\n",
        "| summoner1Casts | int | Quantidade que a skill \"D\" foi utilizada |\n",
        "| summoner2Casts | int | Quantidade que a skill \"F\" foi utilizada |\n",
        "| summoner1Id | str | Feitiço de invocador 1 |\n",
        "| summoner2Id | str | Feitiço de invocador 2 |\n",
        "| teamId | int | O lado do mapa que o jogador jogou |\n",
        "| timeCCingOthers | int | Tempo de atordoamento causado à jogadores inimigos |\n",
        "| timePlayed | int | Tempo de partida |\n",
        "| totalDamageDealtToChampions | int | Dano total causado |\n",
        "| totalDamageTaken |int | Dano total sofrido |\n",
        "| totalHeal | int | Cura total recebida |\n",
        "| totalHealsOnTeammates | int | Cura total dada ao time aliado |\n",
        "| totalTimeSpentDead | int | Tempo passado morto |\n",
        "| trueDamageDealtToChampions | int | Total de dano verdadeiro causado |\n",
        "| turretTakedowns | int | Quantidade de torres derrubadas |\n",
        "| turretsLost | int | Quantidade de torres perdidas |\n",
        "| visionScore | int | Score de visão |\n",
        "| win | bool | Se a partida foi vencida ou não |\n",
        "| allPings | int | Quantidade de pings feitos |\n",
        "| participations | int | Quantidade de participações em abates |\n",
        "| totalFarm | int | Quantidade de farm |![images.jpg](data:image/jpeg;base64,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)"
      ]
    },
    {
      "cell_type": "markdown",
      "metadata": {
        "id": "RkdxC19zRnnc"
      },
      "source": [
        "Executando as funções e salvando os DataFrames"
      ]
    },
    {
      "cell_type": "code",
      "execution_count": 19,
      "metadata": {
        "id": "2M8QzNVZMsqu"
      },
      "outputs": [
        {
          "name": "stderr",
          "output_type": "stream",
          "text": [
            "C:\\Users\\shady\\AppData\\Local\\Temp\\ipykernel_11568\\1805924307.py:4: FutureWarning: the convert_dtype parameter is deprecated and will be removed in a future version.  Do ``ser.astype(object).apply()`` instead if you want ``convert_dtype=False``.\n",
            "  dataframe[spell] = dataframe[spell].apply(lambda x: spells.get(str(x)), None)\n",
            "C:\\Users\\shady\\AppData\\Local\\Temp\\ipykernel_11568\\1805924307.py:4: FutureWarning: the convert_dtype parameter is deprecated and will be removed in a future version.  Do ``ser.astype(object).apply()`` instead if you want ``convert_dtype=False``.\n",
            "  dataframe[spell] = dataframe[spell].apply(lambda x: spells.get(str(x)), None)\n",
            "C:\\Users\\shady\\AppData\\Local\\Temp\\ipykernel_11568\\1805924307.py:4: FutureWarning: the convert_dtype parameter is deprecated and will be removed in a future version.  Do ``ser.astype(object).apply()`` instead if you want ``convert_dtype=False``.\n",
            "  dataframe[spell] = dataframe[spell].apply(lambda x: spells.get(str(x)), None)\n",
            "C:\\Users\\shady\\AppData\\Local\\Temp\\ipykernel_11568\\1805924307.py:4: FutureWarning: the convert_dtype parameter is deprecated and will be removed in a future version.  Do ``ser.astype(object).apply()`` instead if you want ``convert_dtype=False``.\n",
            "  dataframe[spell] = dataframe[spell].apply(lambda x: spells.get(str(x)), None)\n",
            "C:\\Users\\shady\\AppData\\Local\\Temp\\ipykernel_11568\\1805924307.py:4: FutureWarning: the convert_dtype parameter is deprecated and will be removed in a future version.  Do ``ser.astype(object).apply()`` instead if you want ``convert_dtype=False``.\n",
            "  dataframe[spell] = dataframe[spell].apply(lambda x: spells.get(str(x)), None)\n"
          ]
        }
      ],
      "source": [
        "for role, dataframe in {'TOP': tops, 'MIDDLE': mids, 'JUNGLE': jgs, 'BOTTOM': adcs, 'UTILITY': sups}.items():\n",
        "  remove_games_that_ended_in_early_surrender(dataframe)\n",
        "  remove_ping_columns(dataframe)\n",
        "  sum_kills_and_assists(dataframe)\n",
        "  sum_minions_and_jungle_minions_killed(dataframe)\n",
        "  delete_generic_columns(dataframe)\n",
        "  remove_columns_with_unique_values(dataframe)\n",
        "  get_item_name_by_id(dataframe)\n",
        "  get_spell_name_by_id(dataframe)\n",
        "\n",
        "  dataframe.to_excel(f'transformed/{role}.xlsx')"
      ]
    },
    {
      "cell_type": "code",
      "execution_count": 20,
      "metadata": {},
      "outputs": [],
      "source": [
        "top_jgs = pd.concat([tops, jgs])\n",
        "mids_adcs = pd.concat([mids, adcs])\n",
        "matchs = pd.concat([top_jgs, mids_adcs])\n",
        "matchs = pd.concat([matchs, sups])\n",
        "\n",
        "matchs.to_excel(\"transformed/MATCHS.xlsx\")"
      ]
    }
  ],
  "metadata": {
    "colab": {
      "provenance": []
    },
    "kernelspec": {
      "display_name": "Python 3",
      "name": "python3"
    },
    "language_info": {
      "codemirror_mode": {
        "name": "ipython",
        "version": 3
      },
      "file_extension": ".py",
      "mimetype": "text/x-python",
      "name": "python",
      "nbconvert_exporter": "python",
      "pygments_lexer": "ipython3",
      "version": "3.12.1"
    }
  },
  "nbformat": 4,
  "nbformat_minor": 0
}
