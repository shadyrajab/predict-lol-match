{
  "cells": [
    {
      "cell_type": "markdown",
      "metadata": {
        "id": "LxvQ2LYFNVTn"
      },
      "source": [
        "# Limpeza e transformação dos dados\n",
        "\n",
        "Agora que temos coletamos todos os dados necessários para fazer nossas análises e modelos, vamo fazer uma tratativa em nossos DataFrames. Iremos interpretar cada coluna e unificar através de soma aquelas colunas que fazem parte de uma certa categoria, ficará mais fácil de entender daqui pra frente. Também iremos fazer novas requisições na API da Riot para transformar ID's de itens em seus respectivos nomes..."
      ]
    },
    {
      "cell_type": "code",
      "execution_count": 2,
      "metadata": {
        "id": "utlVXYZxJROs"
      },
      "outputs": [],
      "source": [
        "import pandas as pd\n",
        "import requests"
      ]
    },
    {
      "cell_type": "code",
      "execution_count": 8,
      "metadata": {
        "id": "fl91VHD-JROt"
      },
      "outputs": [],
      "source": [
        "tops = pd.read_excel(\"original/TOP.xlsx\")\n",
        "jgs = pd.read_excel(\"original/JUNGLE.xlsx\")\n",
        "mids = pd.read_excel(\"original/MIDDLE.xlsx\")\n",
        "adcs = pd.read_excel(\"original/BOTTOM.xlsx\")\n",
        "sups = pd.read_excel(\"original/UTILITY.xlsx\")"
      ]
    },
    {
      "cell_type": "markdown",
      "metadata": {
        "id": "zg4S6rJBJROu"
      },
      "source": [
        "# Agrupando colunas.\n",
        "\n",
        "### Agrupando colunas de pings:\n",
        "- O tipo de ping não é um dado tão relevante assim, até porque o nível de agressividade ou passividade de um time ou jogador pode ser analisado através da quantidade de abates/ mortes e dano causado/sofrido.\n",
        "Então iremos criar uma única coluna chamada **allPings** que será o agrupamento entre todas as colunas de Pings.\n",
        "\n",
        "### Agrupando abates e assistências:\n",
        "- Iremos unificar as colunas **assists** e **kills** e chamá-la de **participations**. Uma assistência é quando um jogador ajuda à matar um jogador inimigo, kills é auto-explicativo. Ambos tem o mesmo efeito prático na partida.\n",
        "\n",
        "### Agrupando colunas de farm:\n",
        "- Também iremos unificar as colunas **totalMinionsKilled, totalEnemyJungleMinionsKilled, totalAllyJungleMinionsKilled, neutralMinionsKilled** na coluna **totalFarm**. O farm é uma das formas de conquistar ouro dentro da partida, e você pode farmar minions e monstros da selva.\n"
      ]
    },
    {
      "cell_type": "code",
      "execution_count": 4,
      "metadata": {
        "id": "WUdGrLdKJROv"
      },
      "outputs": [],
      "source": [
        "def remove_ping_columns(dataframe: pd.DataFrame):\n",
        "  \"\"\"Remove todas as colunas de tipos de ping e cria uma única coluna\n",
        "    única com a soma de todos os pings da partida.\"\"\"\n",
        "  ping_columns = []\n",
        "  for column in dataframe.columns:\n",
        "    if 'Pings' in str(column):\n",
        "      ping_columns.append(column)\n",
        "\n",
        "  dataframe['allPings'] = dataframe[ping_columns].sum(axis=1)\n",
        "  dataframe.drop(columns=ping_columns, inplace=True)"
      ]
    },
    {
      "cell_type": "code",
      "execution_count": 5,
      "metadata": {
        "id": "DG2W3aWXPCMb"
      },
      "outputs": [],
      "source": [
        "def sum_kills_and_assists(dataframe: pd.DataFrame):\n",
        "  \"\"\"Soma os abates e assistências do jogador em uma única coluna ``participations``\"\"\"\n",
        "  dataframe['participations'] = dataframe['kills'] + dataframe['assists']"
      ]
    },
    {
      "cell_type": "code",
      "execution_count": 6,
      "metadata": {
        "id": "zuObFka_J6ij"
      },
      "outputs": [],
      "source": [
        "def sum_minions_and_jungle_minions_killed(dataframe: pd.DataFrame):\n",
        "  \"\"\"Soma todos os monstros pequenos em uma única coluna ``totalFarm``\"\"\"\n",
        "  farm_columns = []\n",
        "  for column in dataframe.columns:\n",
        "    if 'MinionsKilled' in str(column):\n",
        "      farm_columns.append(column)\n",
        "\n",
        "  dataframe['totalFarm'] = dataframe[farm_columns].sum(axis=1)\n",
        "  dataframe.drop(columns=farm_columns, inplace=True)"
      ]
    },
    {
      "cell_type": "markdown",
      "metadata": {
        "id": "YTCpPHRJOg_S"
      },
      "source": [
        "# Removendo colunas.\n",
        "\n",
        "- O DataFrame possui uma coluna para ouro ganho e ouro gasto. Separar os dados dessa forma é irrelevante, iremos considerar apenas o ouro gasto na partida, pois o ouro ganho só tem efeito prático quando é gasto com itens. Iremos deletar a coluna **goldEarned**\n",
        "\n",
        "- Iremos remover partidas que tenham acabado em rendição logo no início da partida. Esses dados são inúteis. A coluna que indica uma rendição rápida é **gameEndedInEarlySurrender**. Também iremos deletar **gameEndedInSurrender**.\n",
        "\n",
        "- Nós já temos o nome do campeão que o jogador pickou e o seu level total, então iremos desconsiderar as colunas **championId** e **champExperience**.\n",
        "\n",
        "- Também iremos deletar todas as colunas que indiquem abates múltiplos, como double-kills, triple-kills... Nós já teremos esses números na coluna **participations**. As colunas **doubleKills**, **tripleKills**, **quadraKills**, **pentaKills** **largestMultiKill**, **largestKillingSpree**, **killingSprees** serão deletadas.\n",
        "\n",
        "- Não precisamos de informações pessoais dos jogadores. As colunas **summonerName, summonerLevel, summonerId, riotIdTagline riotIdGameName, puuid, profileIcon, participantId, eligibleForProgression** serão todas removidas\n",
        "\n",
        "- Iremos considerar apenas o score de visão e remover as colunas **visionWardsBoughtInGame, wardsKilled, wardsPlaced, sightWardsBoughtInGame, detectorWardsPlaced**\n",
        "\n",
        "- Vamos remover a coluna **itemsPurchased** e utilizar apenas **consumablesPurchased** para ver se a compra excessiva de poções influencia no desempenho de um jogador(tenho a intuição de que sim)\n",
        "\n",
        "- Iremos remover as colunas **damageDealtToBuildings** e **damageDealtToTurrets**, a coluna **damageDealtToObjectives** é a soma dessas outras duas, é o suficiente pra nossa análise.\n",
        "\n",
        "- As colunas **nexusKills**, **nexusLost** e **nexusTakedowns** tem uma correlação perfeita com a vitória(basicamente se você destrói o nexus você ganha a partida). Iremos deletá-las.\n",
        "\n",
        "- Iremos deletar a coluna **firstBloodKill** e considerar apenas **firstBloodAssist**, é o suficiente pra saber se um time começou com a primeira kill do jogo ou não.\n",
        "\n",
        "- Iremos remover colunas isoladas com significado irrelevante ou duplicado, como **championTransform, largestCriticalStrike, lane, role, inhibitorKills, physicalDamageDealt, physicalDamageTaken, firstTowerKill,\n",
        "magicDamageDealt, magicDamageTaken, teamEarlySurrendered, totalDamageDealt, trueDamageDealt,\n",
        "trueDamageTaken, firstTowerKill, objectivesStolen, turretKills, teamPosition, totalDamageShieldedOnTeammates, totalTimeCCDealt, totalUnitsHealed**\n",
        "\n",
        "- Por último, iremos remover colunas que possuem sempre um valor único"
      ]
    },
    {
      "cell_type": "code",
      "execution_count": 7,
      "metadata": {
        "id": "ndWm1wllJROw"
      },
      "outputs": [],
      "source": [
        "def remove_columns_with_unique_values(dataframe: pd.DataFrame):\n",
        "  \"\"\"Remove todas as colunas do dataframe que possuem valores unique\"\"\"\n",
        "  for colum in dataframe.columns:\n",
        "      if dataframe[colum].nunique() == 1:\n",
        "          dataframe.drop(colum, axis=1, inplace=True)"
      ]
    },
    {
      "cell_type": "code",
      "execution_count": 8,
      "metadata": {
        "id": "Foo6VaUNJdMc"
      },
      "outputs": [],
      "source": [
        "def remove_games_that_ended_in_early_surrender(dataframe: pd.DataFrame):\n",
        "  \"\"\"Remove todas as partidas que terminaram em remake\"\"\"\n",
        "  dataframe.drop(dataframe[dataframe[\"gameEndedInEarlySurrender\"]].index, inplace=True)"
      ]
    },
    {
      "cell_type": "code",
      "execution_count": 9,
      "metadata": {
        "id": "1ljv6lboKw4L"
      },
      "outputs": [],
      "source": [
        "def delete_generic_columns(dataframe: pd.DataFrame):\n",
        "  \"\"\"Deleta todas as colunas genéricas e irrelevantes do dataframe\"\"\"\n",
        "  columns_to_delete = [\n",
        "    \"goldEarned\", \"championId\", \"champExperience\", \"doubleKills\", \"tripleKills\", \"quadraKills\",\n",
        "    \"pentaKills\", \"largestMultiKill\", \"largestKillingSpree\", \"killingSprees\", \"summonerName\",\n",
        "    \"summonerLevel\", \"summonerId\", \"riotIdTagline\", \"riotIdGameName\", \"puuid\", \"profileIcon\",\n",
        "    \"participantId\", \"eligibleForProgression\", \"visionWardsBoughtInGame\", \"wardsKilled\",\n",
        "    \"wardsPlaced\", \"gameEndedInEarlySurrender\", \"assists\", \"kills\", \"gameEndedInSurrender\",\n",
        "    \"detectorWardsPlaced\", \"championTransform\", \"itemsPurchased\", \"inhibitorKills\",\n",
        "    \"damageDealtToBuildings\", \"damageDealtToTurrets\", \"largestCriticalStrike\", \"lane\",\n",
        "    \"role\", \"nexusLost\", \"nexusKills\", \"nexusTakedowns\", \"firstBloodKill\",\n",
        "    \"physicalDamageDealt\", \"physicalDamageTaken\", \"firstTowerKill\", \"magicDamageDealt\",\n",
        "    \"magicDamageTaken\", \"teamEarlySurrendered\", \"totalDamageDealt\", \"trueDamageDealt\",\n",
        "    \"trueDamageTaken\", \"objectivesStolen\", \"turretKills\",\n",
        "    \"totalDamageShieldedOnTeammates\", \"totalTimeCCDealt\", \"totalUnitsHealed\"\n",
        "  ]\n",
        "  dataframe.drop(columns=columns_to_delete, inplace=True)"
      ]
    },
    {
      "cell_type": "markdown",
      "metadata": {
        "id": "uVm1mFPGREUq"
      },
      "source": [
        "# Transformando colunas\n",
        "\n",
        "- A riot nos disponibiliza o ID dos itens e não o seu nome. Iremos fazer uma requisição para o datadragon da Riot e puxar o nome dos itens pelo seu ID\n",
        "\n",
        "- Eu não encontrei uma rota que disponibilizasse o ID dos feitiços de invocador, mas como são poucos, eu defini um dicionário com cada spell."
      ]
    },
    {
      "cell_type": "code",
      "execution_count": 10,
      "metadata": {
        "id": "7SJQg_SQL9mB"
      },
      "outputs": [],
      "source": [
        "def get_item_name_by_id(dataframe: pd.DataFrame):\n",
        "  itens = \"https://ddragon.leagueoflegends.com/cdn/14.11.1/data/pt_BR/item.json\"\n",
        "  response = requests.get(itens).json()['data']\n",
        "\n",
        "  for item in [\"item0\", \"item1\", \"item2\", \"item3\", \"item4\", \"item5\", \"item6\"]:\n",
        "    dataframe[item] = dataframe[item].apply(lambda s: response.get(str(s), {}).get('name', \"No Item\"))"
      ]
    },
    {
      "cell_type": "code",
      "execution_count": 11,
      "metadata": {
        "id": "QV-TZiadMH3q"
      },
      "outputs": [],
      "source": [
        "def get_spell_name_by_id(dataframe: pd.DataFrame):\n",
        "  spells = {\"4\": 'Flash', \"12\": 'Teleport', \"14\": 'Ignite', \"11\": 'Smite', \"7\": 'Heal', \"6\": 'Haste', \"3\": 'Exhaust', \"1\": 'Cleanse', \"21\": 'Barrier'}\n",
        "  for spell in [\"summoner1Id\", \"summoner2Id\"]:\n",
        "    dataframe[spell] = dataframe[spell].apply(lambda x: spells.get(str(x)), None)"
      ]
    },
    {
      "cell_type": "markdown",
      "metadata": {
        "id": "Lq_VvxX-LbOD"
      },
      "source": [
        "# Finalizando a limpeza de dados.\n",
        "\n",
        "Com todas as limpezas que fizemos, conseguimos reduzir a quantidade de colunas do nosso DataFrame de 127 para 50... "
      ]
    },
    {
      "cell_type": "markdown",
      "metadata": {
        "id": "RkdxC19zRnnc"
      },
      "source": [
        "Executando as funções e salvando os DataFrames"
      ]
    },
    {
      "cell_type": "code",
      "execution_count": null,
      "metadata": {
        "id": "2M8QzNVZMsqu"
      },
      "outputs": [],
      "source": [
        "for role, dataframe in {'TOP': tops, 'MIDDLE': mids, 'JUNGLE': jgs, 'BOTTOM': adcs, 'UTILITY': sups}.items():\n",
        "  remove_games_that_ended_in_early_surrender(dataframe)\n",
        "  remove_ping_columns(dataframe)\n",
        "  sum_kills_and_assists(dataframe)\n",
        "  sum_minions_and_jungle_minions_killed(dataframe)\n",
        "  delete_generic_columns(dataframe)\n",
        "  remove_columns_with_unique_values(dataframe)\n",
        "  get_item_name_by_id(dataframe)\n",
        "  get_spell_name_by_id(dataframe)\n",
        "\n",
        "  dataframe.to_excel(f'transformed/{role}.xlsx')"
      ]
    },
    {
      "cell_type": "code",
      "execution_count": 20,
      "metadata": {},
      "outputs": [],
      "source": [
        "top_jgs = pd.concat([tops, jgs])\n",
        "mids_adcs = pd.concat([mids, adcs])\n",
        "matchs = pd.concat([top_jgs, mids_adcs])\n",
        "matchs = pd.concat([matchs, sups])\n",
        "\n",
        "matchs.to_excel(\"transformed/MATCHS.xlsx\")"
      ]
    }
  ],
  "metadata": {
    "colab": {
      "provenance": []
    },
    "kernelspec": {
      "display_name": "Python 3",
      "name": "python3"
    },
    "language_info": {
      "codemirror_mode": {
        "name": "ipython",
        "version": 3
      },
      "file_extension": ".py",
      "mimetype": "text/x-python",
      "name": "python",
      "nbconvert_exporter": "python",
      "pygments_lexer": "ipython3",
      "version": "3.12.1"
    }
  },
  "nbformat": 4,
  "nbformat_minor": 0
}
